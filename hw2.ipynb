{
  "nbformat": 4,
  "nbformat_minor": 0,
  "metadata": {
    "colab": {
      "name": "hw2.ipynb",
      "provenance": [],
      "authorship_tag": "ABX9TyOMx/fTJB6Z0MQREV6wpJno",
      "include_colab_link": true
    },
    "kernelspec": {
      "name": "python3",
      "display_name": "Python 3"
    }
  },
  "cells": [
    {
      "cell_type": "markdown",
      "metadata": {
        "id": "view-in-github",
        "colab_type": "text"
      },
      "source": [
        "<a href=\"https://colab.research.google.com/github/hwasser95/myhw/blob/main/hw2.ipynb\" target=\"_parent\"><img src=\"https://colab.research.google.com/assets/colab-badge.svg\" alt=\"Open In Colab\"/></a>"
      ]
    },
    {
      "cell_type": "markdown",
      "metadata": {
        "id": "oHZvbqE1IGvz"
      },
      "source": [
        "# #1\r\n",
        "\r\n",
        "Import the car data to github\r\n",
        "\r\n",
        "Import it into a pandas dataframe\r\n",
        "\r\n",
        "Assign the column names as [numDoors, numCylinders, mpgHighway, mpgStreets, currentMileage, avgMileagePerTuneUp, qualityRating]\r\n",
        "\r\n",
        "Check for null values\r\n",
        "\r\n",
        "Use the drive colab notebook \"_2 Practice Problems, Regex, Simple ML Examples.ipynb\" to run a kmeans clustering and find the centers if the data were divided into 4 categories.\r\n",
        "\r\n",
        "We are given a new car with stats [2, 4, 500, 300, 150, 760, .6] find which cluster it belongs to\r\n",
        "\r\n",
        "We are given a new car with stats [2, 3, 100, 900, 500, 45] with the qualityRating unknown.  Use SVM to find it's quality rating.  I suggest that you find a way to \"bin\" the quality ratings so that you have only a couple of categories instead of what is given, and only then do the SVM.\r\n",
        "\r\n",
        "DATA: Blank_Car_Info.csvPreview the document  "
      ]
    },
    {
      "cell_type": "code",
      "metadata": {
        "colab": {
          "base_uri": "https://localhost:8080/",
          "height": 216
        },
        "id": "-6Ck2g4qFMV3",
        "outputId": "904d3177-0216-4fc2-d5b4-1ec90dc6c496"
      },
      "source": [
        "import pandas as pd\r\n",
        "import matplotlib.pyplot as plt\r\n",
        "column_names = ['numDoors', 'numCylinders', 'mpgHighway', 'mpgStreets', 'currentMileage', 'avgMileagePerTuneUp', 'qualityRating']\r\n",
        "df = pd.read_csv(\"https://raw.githubusercontent.com/hwasser95/myhw/main/Blank_Car_Info.csv\", header= None)\r\n",
        "df.columns=column_names\r\n",
        "print(len(df))\r\n",
        "df.head()\r\n"
      ],
      "execution_count": 3,
      "outputs": [
        {
          "output_type": "stream",
          "text": [
            "1080\n"
          ],
          "name": "stdout"
        },
        {
          "output_type": "execute_result",
          "data": {
            "text/html": [
              "<div>\n",
              "<style scoped>\n",
              "    .dataframe tbody tr th:only-of-type {\n",
              "        vertical-align: middle;\n",
              "    }\n",
              "\n",
              "    .dataframe tbody tr th {\n",
              "        vertical-align: top;\n",
              "    }\n",
              "\n",
              "    .dataframe thead th {\n",
              "        text-align: right;\n",
              "    }\n",
              "</style>\n",
              "<table border=\"1\" class=\"dataframe\">\n",
              "  <thead>\n",
              "    <tr style=\"text-align: right;\">\n",
              "      <th></th>\n",
              "      <th>numDoors</th>\n",
              "      <th>numCylinders</th>\n",
              "      <th>mpgHighway</th>\n",
              "      <th>mpgStreets</th>\n",
              "      <th>currentMileage</th>\n",
              "      <th>avgMileagePerTuneUp</th>\n",
              "      <th>qualityRating</th>\n",
              "    </tr>\n",
              "  </thead>\n",
              "  <tbody>\n",
              "    <tr>\n",
              "      <th>0</th>\n",
              "      <td>3</td>\n",
              "      <td>1</td>\n",
              "      <td>25</td>\n",
              "      <td>40</td>\n",
              "      <td>915</td>\n",
              "      <td>431</td>\n",
              "      <td>0.369963</td>\n",
              "    </tr>\n",
              "    <tr>\n",
              "      <th>1</th>\n",
              "      <td>1</td>\n",
              "      <td>2</td>\n",
              "      <td>10</td>\n",
              "      <td>10</td>\n",
              "      <td>325</td>\n",
              "      <td>934</td>\n",
              "      <td>0.754573</td>\n",
              "    </tr>\n",
              "    <tr>\n",
              "      <th>2</th>\n",
              "      <td>1</td>\n",
              "      <td>3</td>\n",
              "      <td>10</td>\n",
              "      <td>10</td>\n",
              "      <td>431</td>\n",
              "      <td>915</td>\n",
              "      <td>0.886215</td>\n",
              "    </tr>\n",
              "    <tr>\n",
              "      <th>3</th>\n",
              "      <td>2</td>\n",
              "      <td>3</td>\n",
              "      <td>35</td>\n",
              "      <td>35</td>\n",
              "      <td>463</td>\n",
              "      <td>10</td>\n",
              "      <td>0.971624</td>\n",
              "    </tr>\n",
              "    <tr>\n",
              "      <th>4</th>\n",
              "      <td>2</td>\n",
              "      <td>2</td>\n",
              "      <td>10</td>\n",
              "      <td>10</td>\n",
              "      <td>283</td>\n",
              "      <td>10</td>\n",
              "      <td>0.848398</td>\n",
              "    </tr>\n",
              "  </tbody>\n",
              "</table>\n",
              "</div>"
            ],
            "text/plain": [
              "   numDoors  numCylinders  ...  avgMileagePerTuneUp  qualityRating\n",
              "0         3             1  ...                  431       0.369963\n",
              "1         1             2  ...                  934       0.754573\n",
              "2         1             3  ...                  915       0.886215\n",
              "3         2             3  ...                   10       0.971624\n",
              "4         2             2  ...                   10       0.848398\n",
              "\n",
              "[5 rows x 7 columns]"
            ]
          },
          "metadata": {
            "tags": []
          },
          "execution_count": 3
        }
      ]
    },
    {
      "cell_type": "code",
      "metadata": {
        "colab": {
          "base_uri": "https://localhost:8080/"
        },
        "id": "CuPb5aS9GyFu",
        "outputId": "aa93a4b2-ba9e-406a-ef81-939a13103396"
      },
      "source": [
        "#to check for null \r\n",
        "print(len(df))\r\n",
        "df.head()\r\n",
        "df.info()"
      ],
      "execution_count": 4,
      "outputs": [
        {
          "output_type": "stream",
          "text": [
            "1080\n",
            "<class 'pandas.core.frame.DataFrame'>\n",
            "RangeIndex: 1080 entries, 0 to 1079\n",
            "Data columns (total 7 columns):\n",
            " #   Column               Non-Null Count  Dtype  \n",
            "---  ------               --------------  -----  \n",
            " 0   numDoors             1080 non-null   int64  \n",
            " 1   numCylinders         1080 non-null   int64  \n",
            " 2   mpgHighway           1080 non-null   int64  \n",
            " 3   mpgStreets           1080 non-null   int64  \n",
            " 4   currentMileage       1080 non-null   int64  \n",
            " 5   avgMileagePerTuneUp  1080 non-null   int64  \n",
            " 6   qualityRating        1080 non-null   float64\n",
            "dtypes: float64(1), int64(6)\n",
            "memory usage: 59.2 KB\n"
          ],
          "name": "stdout"
        }
      ]
    },
    {
      "cell_type": "markdown",
      "metadata": {
        "id": "7c5l8TpNW35I"
      },
      "source": [
        "Use the drive colab notebook \"_2 Practice Problems, Regex, Simple ML Examples.ipynb\" to run a kmeans clustering and find the centers if the data were divided into 4 categories."
      ]
    },
    {
      "cell_type": "code",
      "metadata": {
        "id": "TCaYZr1dgnky",
        "colab": {
          "base_uri": "https://localhost:8080/"
        },
        "outputId": "a794db2d-f682-4b9c-b860-c5cd7d9a7983"
      },
      "source": [
        "#returns the center of where each cluster is\r\n",
        "\r\n",
        "from sklearn.cluster import KMeans\r\n",
        "import numpy as np\r\n",
        "\r\n",
        "\r\n",
        "## Data (Work (h) / Salary ($))\r\n",
        "X = df\r\n",
        "\r\n",
        "## One-liner\r\n",
        "kmeans = KMeans(n_clusters=4).fit(X)\r\n",
        "\r\n",
        "\r\n",
        "## Result & puzzle\r\n",
        "cc = kmeans.cluster_centers_\r\n",
        "print(cc)"
      ],
      "execution_count": 5,
      "outputs": [
        {
          "output_type": "stream",
          "text": [
            "[[2.35379061e+00 2.37184116e+00 2.68772563e+01 2.58032491e+01\n",
            "  2.52176895e+02 2.45373646e+02 5.06421092e-01]\n",
            " [2.41981132e+00 2.42924528e+00 2.62971698e+01 2.72169811e+01\n",
            "  2.48825472e+02 8.66966981e+02 5.46785990e-01]\n",
            " [2.34146341e+00 2.47560976e+00 2.70731707e+01 2.67682927e+01\n",
            "  8.75695122e+02 8.72621951e+02 5.06455425e-01]\n",
            " [2.26724138e+00 2.49137931e+00 2.61853448e+01 2.52155172e+01\n",
            "  8.54737069e+02 2.34806034e+02 4.89035414e-01]]\n"
          ],
          "name": "stdout"
        }
      ]
    },
    {
      "cell_type": "markdown",
      "metadata": {
        "id": "dPCtmwlgWzet"
      },
      "source": [
        "We are given a new car with stats [2, 4, 500, 300, 150, 760, .6] find which cluster it belongs to"
      ]
    },
    {
      "cell_type": "code",
      "metadata": {
        "id": "2pAST2MdinX8",
        "colab": {
          "base_uri": "https://localhost:8080/"
        },
        "outputId": "88e892f3-e1d0-4899-c8bb-fc9d294f75c8"
      },
      "source": [
        "prediction = kmeans.predict(np.array([2, 4, 500, 300, 150, 760, .6]).reshape(-1,7))\r\n",
        "print(prediction)"
      ],
      "execution_count": 6,
      "outputs": [
        {
          "output_type": "stream",
          "text": [
            "[1]\n"
          ],
          "name": "stdout"
        }
      ]
    },
    {
      "cell_type": "markdown",
      "metadata": {
        "id": "K5PKDHDnXAZl"
      },
      "source": [
        "We are given a new car with stats [2, 3, 100, 900, 500, 45] with the qualityRating unknown.  Use SVM to find it's quality rating.  I suggest that you find a way to \"bin\" the quality ratings so that you have only a couple of categories instead of what is given, and only then do the SVM."
      ]
    },
    {
      "cell_type": "markdown",
      "metadata": {
        "id": "CRNFdwQIZCRE"
      },
      "source": [
        "# #2"
      ]
    },
    {
      "cell_type": "code",
      "metadata": {
        "colab": {
          "base_uri": "https://localhost:8080/"
        },
        "id": "EyUkhjfJZm6E",
        "outputId": "092c0dcb-81ef-46f0-8021-11bd555f9f1b"
      },
      "source": [
        "import matplotlib.pyplot as plt\r\n",
        "from sklearn.linear_model import LinearRegression\r\n",
        "import pandas as pd \r\n",
        "import numpy as np\r\n",
        "\r\n",
        "df1 = pd.read_csv(\"https://raw.githubusercontent.com/hwasser95/myhw/main/5%20stocks.csv\")\r\n",
        "df1[['Date']] = \\\r\n",
        "    df1[['Date']].apply(pd.to_datetime)\r\n",
        "df1.info()"
      ],
      "execution_count": 19,
      "outputs": [
        {
          "output_type": "stream",
          "text": [
            "<class 'pandas.core.frame.DataFrame'>\n",
            "RangeIndex: 1258 entries, 0 to 1257\n",
            "Data columns (total 6 columns):\n",
            " #   Column  Non-Null Count  Dtype         \n",
            "---  ------  --------------  -----         \n",
            " 0   Date    1258 non-null   datetime64[ns]\n",
            " 1   At&t    1258 non-null   float64       \n",
            " 2   Xom     1258 non-null   float64       \n",
            " 3   BA      1258 non-null   float64       \n",
            " 4   Wmt     1258 non-null   float64       \n",
            " 5   Wix     1258 non-null   float64       \n",
            "dtypes: datetime64[ns](1), float64(5)\n",
            "memory usage: 59.1 KB\n"
          ],
          "name": "stdout"
        }
      ]
    },
    {
      "cell_type": "code",
      "metadata": {
        "colab": {
          "base_uri": "https://localhost:8080/",
          "height": 407
        },
        "id": "9kCB-gxtvmLF",
        "outputId": "67e8a75b-af43-4303-fdf3-fc07812e1019"
      },
      "source": [
        "df1.head(1258)"
      ],
      "execution_count": 20,
      "outputs": [
        {
          "output_type": "execute_result",
          "data": {
            "text/html": [
              "<div>\n",
              "<style scoped>\n",
              "    .dataframe tbody tr th:only-of-type {\n",
              "        vertical-align: middle;\n",
              "    }\n",
              "\n",
              "    .dataframe tbody tr th {\n",
              "        vertical-align: top;\n",
              "    }\n",
              "\n",
              "    .dataframe thead th {\n",
              "        text-align: right;\n",
              "    }\n",
              "</style>\n",
              "<table border=\"1\" class=\"dataframe\">\n",
              "  <thead>\n",
              "    <tr style=\"text-align: right;\">\n",
              "      <th></th>\n",
              "      <th>Date</th>\n",
              "      <th>At&amp;t</th>\n",
              "      <th>Xom</th>\n",
              "      <th>BA</th>\n",
              "      <th>Wmt</th>\n",
              "      <th>Wix</th>\n",
              "    </tr>\n",
              "  </thead>\n",
              "  <tbody>\n",
              "    <tr>\n",
              "      <th>0</th>\n",
              "      <td>2016-03-04</td>\n",
              "      <td>37.930000</td>\n",
              "      <td>82.290001</td>\n",
              "      <td>121.070000</td>\n",
              "      <td>66.779999</td>\n",
              "      <td>20.030001</td>\n",
              "    </tr>\n",
              "    <tr>\n",
              "      <th>1</th>\n",
              "      <td>2016-03-07</td>\n",
              "      <td>38.130001</td>\n",
              "      <td>84.459999</td>\n",
              "      <td>122.900002</td>\n",
              "      <td>67.889999</td>\n",
              "      <td>20.629999</td>\n",
              "    </tr>\n",
              "    <tr>\n",
              "      <th>2</th>\n",
              "      <td>2016-03-08</td>\n",
              "      <td>38.090000</td>\n",
              "      <td>82.629997</td>\n",
              "      <td>122.349998</td>\n",
              "      <td>68.040001</td>\n",
              "      <td>19.590000</td>\n",
              "    </tr>\n",
              "    <tr>\n",
              "      <th>3</th>\n",
              "      <td>2016-03-09</td>\n",
              "      <td>37.980000</td>\n",
              "      <td>82.400002</td>\n",
              "      <td>122.860001</td>\n",
              "      <td>67.529999</td>\n",
              "      <td>19.980000</td>\n",
              "    </tr>\n",
              "    <tr>\n",
              "      <th>4</th>\n",
              "      <td>2016-03-10</td>\n",
              "      <td>38.310001</td>\n",
              "      <td>82.180000</td>\n",
              "      <td>122.940002</td>\n",
              "      <td>67.410004</td>\n",
              "      <td>20.180000</td>\n",
              "    </tr>\n",
              "    <tr>\n",
              "      <th>...</th>\n",
              "      <td>...</td>\n",
              "      <td>...</td>\n",
              "      <td>...</td>\n",
              "      <td>...</td>\n",
              "      <td>...</td>\n",
              "      <td>...</td>\n",
              "    </tr>\n",
              "    <tr>\n",
              "      <th>1253</th>\n",
              "      <td>2021-02-25</td>\n",
              "      <td>28.629999</td>\n",
              "      <td>55.759998</td>\n",
              "      <td>216.449997</td>\n",
              "      <td>131.949997</td>\n",
              "      <td>333.500000</td>\n",
              "    </tr>\n",
              "    <tr>\n",
              "      <th>1254</th>\n",
              "      <td>2021-02-26</td>\n",
              "      <td>27.889999</td>\n",
              "      <td>54.369999</td>\n",
              "      <td>212.009995</td>\n",
              "      <td>129.919998</td>\n",
              "      <td>348.570007</td>\n",
              "    </tr>\n",
              "    <tr>\n",
              "      <th>1255</th>\n",
              "      <td>2021-03-01</td>\n",
              "      <td>28.090000</td>\n",
              "      <td>56.400002</td>\n",
              "      <td>224.389999</td>\n",
              "      <td>131.369995</td>\n",
              "      <td>340.519989</td>\n",
              "    </tr>\n",
              "    <tr>\n",
              "      <th>1256</th>\n",
              "      <td>2021-03-02</td>\n",
              "      <td>28.219999</td>\n",
              "      <td>56.070000</td>\n",
              "      <td>223.139999</td>\n",
              "      <td>130.110001</td>\n",
              "      <td>342.940002</td>\n",
              "    </tr>\n",
              "    <tr>\n",
              "      <th>1257</th>\n",
              "      <td>2021-03-03</td>\n",
              "      <td>28.719999</td>\n",
              "      <td>56.520000</td>\n",
              "      <td>228.559998</td>\n",
              "      <td>127.589996</td>\n",
              "      <td>320.670013</td>\n",
              "    </tr>\n",
              "  </tbody>\n",
              "</table>\n",
              "<p>1258 rows × 6 columns</p>\n",
              "</div>"
            ],
            "text/plain": [
              "           Date       At&t        Xom          BA         Wmt         Wix\n",
              "0    2016-03-04  37.930000  82.290001  121.070000   66.779999   20.030001\n",
              "1    2016-03-07  38.130001  84.459999  122.900002   67.889999   20.629999\n",
              "2    2016-03-08  38.090000  82.629997  122.349998   68.040001   19.590000\n",
              "3    2016-03-09  37.980000  82.400002  122.860001   67.529999   19.980000\n",
              "4    2016-03-10  38.310001  82.180000  122.940002   67.410004   20.180000\n",
              "...         ...        ...        ...         ...         ...         ...\n",
              "1253 2021-02-25  28.629999  55.759998  216.449997  131.949997  333.500000\n",
              "1254 2021-02-26  27.889999  54.369999  212.009995  129.919998  348.570007\n",
              "1255 2021-03-01  28.090000  56.400002  224.389999  131.369995  340.519989\n",
              "1256 2021-03-02  28.219999  56.070000  223.139999  130.110001  342.940002\n",
              "1257 2021-03-03  28.719999  56.520000  228.559998  127.589996  320.670013\n",
              "\n",
              "[1258 rows x 6 columns]"
            ]
          },
          "metadata": {
            "tags": []
          },
          "execution_count": 20
        }
      ]
    },
    {
      "cell_type": "markdown",
      "metadata": {
        "id": "9SyvB4jmaAc-"
      },
      "source": [
        "Output the statistics for each column\r\n",
        "\r\n"
      ]
    },
    {
      "cell_type": "code",
      "metadata": {
        "colab": {
          "base_uri": "https://localhost:8080/",
          "height": 288
        },
        "id": "sr4-l7ZLaBPd",
        "outputId": "ae93d812-24e6-4297-86ae-47cd9e990545"
      },
      "source": [
        "df1.describe()"
      ],
      "execution_count": 21,
      "outputs": [
        {
          "output_type": "execute_result",
          "data": {
            "text/html": [
              "<div>\n",
              "<style scoped>\n",
              "    .dataframe tbody tr th:only-of-type {\n",
              "        vertical-align: middle;\n",
              "    }\n",
              "\n",
              "    .dataframe tbody tr th {\n",
              "        vertical-align: top;\n",
              "    }\n",
              "\n",
              "    .dataframe thead th {\n",
              "        text-align: right;\n",
              "    }\n",
              "</style>\n",
              "<table border=\"1\" class=\"dataframe\">\n",
              "  <thead>\n",
              "    <tr style=\"text-align: right;\">\n",
              "      <th></th>\n",
              "      <th>At&amp;t</th>\n",
              "      <th>Xom</th>\n",
              "      <th>BA</th>\n",
              "      <th>Wmt</th>\n",
              "      <th>Wix</th>\n",
              "    </tr>\n",
              "  </thead>\n",
              "  <tbody>\n",
              "    <tr>\n",
              "      <th>count</th>\n",
              "      <td>1258.000000</td>\n",
              "      <td>1258.000000</td>\n",
              "      <td>1258.000000</td>\n",
              "      <td>1258.000000</td>\n",
              "      <td>1258.000000</td>\n",
              "    </tr>\n",
              "    <tr>\n",
              "      <th>mean</th>\n",
              "      <td>35.009825</td>\n",
              "      <td>72.272091</td>\n",
              "      <td>253.911502</td>\n",
              "      <td>98.362329</td>\n",
              "      <td>114.176073</td>\n",
              "    </tr>\n",
              "    <tr>\n",
              "      <th>std</th>\n",
              "      <td>4.399880</td>\n",
              "      <td>16.483230</td>\n",
              "      <td>94.066647</td>\n",
              "      <td>23.725119</td>\n",
              "      <td>74.826694</td>\n",
              "    </tr>\n",
              "    <tr>\n",
              "      <th>min</th>\n",
              "      <td>26.500000</td>\n",
              "      <td>31.450001</td>\n",
              "      <td>95.010002</td>\n",
              "      <td>63.150002</td>\n",
              "      <td>19.580000</td>\n",
              "    </tr>\n",
              "    <tr>\n",
              "      <th>25%</th>\n",
              "      <td>30.780001</td>\n",
              "      <td>68.529997</td>\n",
              "      <td>164.044998</td>\n",
              "      <td>76.012501</td>\n",
              "      <td>61.325000</td>\n",
              "    </tr>\n",
              "    <tr>\n",
              "      <th>50%</th>\n",
              "      <td>35.375000</td>\n",
              "      <td>79.235000</td>\n",
              "      <td>240.535003</td>\n",
              "      <td>96.090000</td>\n",
              "      <td>97.244999</td>\n",
              "    </tr>\n",
              "    <tr>\n",
              "      <th>75%</th>\n",
              "      <td>38.577501</td>\n",
              "      <td>82.937502</td>\n",
              "      <td>346.864998</td>\n",
              "      <td>117.160004</td>\n",
              "      <td>137.209999</td>\n",
              "    </tr>\n",
              "    <tr>\n",
              "      <th>max</th>\n",
              "      <td>43.470001</td>\n",
              "      <td>95.120003</td>\n",
              "      <td>440.619995</td>\n",
              "      <td>152.789993</td>\n",
              "      <td>353.089996</td>\n",
              "    </tr>\n",
              "  </tbody>\n",
              "</table>\n",
              "</div>"
            ],
            "text/plain": [
              "              At&t          Xom           BA          Wmt          Wix\n",
              "count  1258.000000  1258.000000  1258.000000  1258.000000  1258.000000\n",
              "mean     35.009825    72.272091   253.911502    98.362329   114.176073\n",
              "std       4.399880    16.483230    94.066647    23.725119    74.826694\n",
              "min      26.500000    31.450001    95.010002    63.150002    19.580000\n",
              "25%      30.780001    68.529997   164.044998    76.012501    61.325000\n",
              "50%      35.375000    79.235000   240.535003    96.090000    97.244999\n",
              "75%      38.577501    82.937502   346.864998   117.160004   137.209999\n",
              "max      43.470001    95.120003   440.619995   152.789993   353.089996"
            ]
          },
          "metadata": {
            "tags": []
          },
          "execution_count": 21
        }
      ]
    },
    {
      "cell_type": "markdown",
      "metadata": {
        "id": "DZclvE0TaR6P"
      },
      "source": [
        "Output the covariance and correlation matrices"
      ]
    },
    {
      "cell_type": "code",
      "metadata": {
        "colab": {
          "base_uri": "https://localhost:8080/",
          "height": 198
        },
        "id": "X2ufWnb9aS0k",
        "outputId": "429ff89a-3031-426b-8373-a3fd605a4718"
      },
      "source": [
        "df1.cov(min_periods=len(df1))"
      ],
      "execution_count": 22,
      "outputs": [
        {
          "output_type": "execute_result",
          "data": {
            "text/html": [
              "<div>\n",
              "<style scoped>\n",
              "    .dataframe tbody tr th:only-of-type {\n",
              "        vertical-align: middle;\n",
              "    }\n",
              "\n",
              "    .dataframe tbody tr th {\n",
              "        vertical-align: top;\n",
              "    }\n",
              "\n",
              "    .dataframe thead th {\n",
              "        text-align: right;\n",
              "    }\n",
              "</style>\n",
              "<table border=\"1\" class=\"dataframe\">\n",
              "  <thead>\n",
              "    <tr style=\"text-align: right;\">\n",
              "      <th></th>\n",
              "      <th>At&amp;t</th>\n",
              "      <th>Xom</th>\n",
              "      <th>BA</th>\n",
              "      <th>Wmt</th>\n",
              "      <th>Wix</th>\n",
              "    </tr>\n",
              "  </thead>\n",
              "  <tbody>\n",
              "    <tr>\n",
              "      <th>At&amp;t</th>\n",
              "      <td>19.358940</td>\n",
              "      <td>48.821432</td>\n",
              "      <td>-108.322991</td>\n",
              "      <td>-72.495321</td>\n",
              "      <td>-236.878013</td>\n",
              "    </tr>\n",
              "    <tr>\n",
              "      <th>Xom</th>\n",
              "      <td>48.821432</td>\n",
              "      <td>271.696855</td>\n",
              "      <td>259.184384</td>\n",
              "      <td>-339.807660</td>\n",
              "      <td>-1060.760358</td>\n",
              "    </tr>\n",
              "    <tr>\n",
              "      <th>BA</th>\n",
              "      <td>-108.322991</td>\n",
              "      <td>259.184384</td>\n",
              "      <td>8848.533995</td>\n",
              "      <td>404.800506</td>\n",
              "      <td>211.344527</td>\n",
              "    </tr>\n",
              "    <tr>\n",
              "      <th>Wmt</th>\n",
              "      <td>-72.495321</td>\n",
              "      <td>-339.807660</td>\n",
              "      <td>404.800506</td>\n",
              "      <td>562.881288</td>\n",
              "      <td>1584.346505</td>\n",
              "    </tr>\n",
              "    <tr>\n",
              "      <th>Wix</th>\n",
              "      <td>-236.878013</td>\n",
              "      <td>-1060.760358</td>\n",
              "      <td>211.344527</td>\n",
              "      <td>1584.346505</td>\n",
              "      <td>5599.034110</td>\n",
              "    </tr>\n",
              "  </tbody>\n",
              "</table>\n",
              "</div>"
            ],
            "text/plain": [
              "            At&t          Xom           BA          Wmt          Wix\n",
              "At&t   19.358940    48.821432  -108.322991   -72.495321  -236.878013\n",
              "Xom    48.821432   271.696855   259.184384  -339.807660 -1060.760358\n",
              "BA   -108.322991   259.184384  8848.533995   404.800506   211.344527\n",
              "Wmt   -72.495321  -339.807660   404.800506   562.881288  1584.346505\n",
              "Wix  -236.878013 -1060.760358   211.344527  1584.346505  5599.034110"
            ]
          },
          "metadata": {
            "tags": []
          },
          "execution_count": 22
        }
      ]
    },
    {
      "cell_type": "code",
      "metadata": {
        "colab": {
          "base_uri": "https://localhost:8080/",
          "height": 198
        },
        "id": "ZasM0Z1ObQ9U",
        "outputId": "d7459898-bc3e-45ba-c898-c1ff1c6ecc7a"
      },
      "source": [
        "df1.corr()"
      ],
      "execution_count": 23,
      "outputs": [
        {
          "output_type": "execute_result",
          "data": {
            "text/html": [
              "<div>\n",
              "<style scoped>\n",
              "    .dataframe tbody tr th:only-of-type {\n",
              "        vertical-align: middle;\n",
              "    }\n",
              "\n",
              "    .dataframe tbody tr th {\n",
              "        vertical-align: top;\n",
              "    }\n",
              "\n",
              "    .dataframe thead th {\n",
              "        text-align: right;\n",
              "    }\n",
              "</style>\n",
              "<table border=\"1\" class=\"dataframe\">\n",
              "  <thead>\n",
              "    <tr style=\"text-align: right;\">\n",
              "      <th></th>\n",
              "      <th>At&amp;t</th>\n",
              "      <th>Xom</th>\n",
              "      <th>BA</th>\n",
              "      <th>Wmt</th>\n",
              "      <th>Wix</th>\n",
              "    </tr>\n",
              "  </thead>\n",
              "  <tbody>\n",
              "    <tr>\n",
              "      <th>At&amp;t</th>\n",
              "      <td>1.000000</td>\n",
              "      <td>0.673174</td>\n",
              "      <td>-0.261724</td>\n",
              "      <td>-0.694482</td>\n",
              "      <td>-0.719494</td>\n",
              "    </tr>\n",
              "    <tr>\n",
              "      <th>Xom</th>\n",
              "      <td>0.673174</td>\n",
              "      <td>1.000000</td>\n",
              "      <td>0.167159</td>\n",
              "      <td>-0.868925</td>\n",
              "      <td>-0.860040</td>\n",
              "    </tr>\n",
              "    <tr>\n",
              "      <th>BA</th>\n",
              "      <td>-0.261724</td>\n",
              "      <td>0.167159</td>\n",
              "      <td>1.000000</td>\n",
              "      <td>0.181383</td>\n",
              "      <td>0.030026</td>\n",
              "    </tr>\n",
              "    <tr>\n",
              "      <th>Wmt</th>\n",
              "      <td>-0.694482</td>\n",
              "      <td>-0.868925</td>\n",
              "      <td>0.181383</td>\n",
              "      <td>1.000000</td>\n",
              "      <td>0.892453</td>\n",
              "    </tr>\n",
              "    <tr>\n",
              "      <th>Wix</th>\n",
              "      <td>-0.719494</td>\n",
              "      <td>-0.860040</td>\n",
              "      <td>0.030026</td>\n",
              "      <td>0.892453</td>\n",
              "      <td>1.000000</td>\n",
              "    </tr>\n",
              "  </tbody>\n",
              "</table>\n",
              "</div>"
            ],
            "text/plain": [
              "          At&t       Xom        BA       Wmt       Wix\n",
              "At&t  1.000000  0.673174 -0.261724 -0.694482 -0.719494\n",
              "Xom   0.673174  1.000000  0.167159 -0.868925 -0.860040\n",
              "BA   -0.261724  0.167159  1.000000  0.181383  0.030026\n",
              "Wmt  -0.694482 -0.868925  0.181383  1.000000  0.892453\n",
              "Wix  -0.719494 -0.860040  0.030026  0.892453  1.000000"
            ]
          },
          "metadata": {
            "tags": []
          },
          "execution_count": 23
        }
      ]
    },
    {
      "cell_type": "markdown",
      "metadata": {
        "id": "JADeJKrFpnjM"
      },
      "source": [
        ""
      ]
    },
    {
      "cell_type": "code",
      "metadata": {
        "colab": {
          "base_uri": "https://localhost:8080/"
        },
        "id": "ESXOBGVWmE6m",
        "outputId": "4d756642-2412-4381-a166-88c2000bce4e"
      },
      "source": [
        "from sklearn.linear_model import LinearRegression\r\n",
        "import seaborn as sns\r\n",
        "stockPrices = df1['Wmt']\r\n",
        "days = df1['Date']\r\n",
        "n = len(days)\r\n",
        "\r\n",
        "\r\n",
        "model = LinearRegression().fit(np.arange(n).reshape((n,1)), stockPrices)\r\n",
        "print(model.predict([[n],[n + 1], [n + 2], [n + 3], [n + 4]]))"
      ],
      "execution_count": 24,
      "outputs": [
        {
          "output_type": "stream",
          "text": [
            "[137.65443949 137.71685745 137.77927542 137.84169339 137.90411135]\n"
          ],
          "name": "stdout"
        }
      ]
    },
    {
      "cell_type": "code",
      "metadata": {
        "id": "TY9k4oHoTknT"
      },
      "source": [
        ""
      ],
      "execution_count": null,
      "outputs": []
    }
  ]
}