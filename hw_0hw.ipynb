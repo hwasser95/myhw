{
  "nbformat": 4,
  "nbformat_minor": 0,
  "metadata": {
    "colab": {
      "name": "hw#0hw.ipynb",
      "provenance": [],
      "authorship_tag": "ABX9TyPpppiWQpbh/KZlvNS0P7gB",
      "include_colab_link": true
    },
    "kernelspec": {
      "name": "python3",
      "display_name": "Python 3"
    }
  },
  "cells": [
    {
      "cell_type": "markdown",
      "metadata": {
        "id": "view-in-github",
        "colab_type": "text"
      },
      "source": [
        "<a href=\"https://colab.research.google.com/github/hwasser95/myhw/blob/main/hw_0hw.ipynb\" target=\"_parent\"><img src=\"https://colab.research.google.com/assets/colab-badge.svg\" alt=\"Open In Colab\"/></a>"
      ]
    },
    {
      "cell_type": "markdown",
      "metadata": {
        "id": "N1fDT5Aer0gk"
      },
      "source": [
        "# #1\r\n",
        "\r\n",
        "Use the following data and create an array that stores all earners over $100,000.employees = {'Alice' : 100000,  'Bob' : 99817, 'Carol' : 122908,  'Frank' : 88123,'Eve' : 93121}\r\n",
        "\r\n"
      ]
    },
    {
      "cell_type": "code",
      "metadata": {
        "colab": {
          "base_uri": "https://localhost:8080/"
        },
        "id": "ls3xKLpHsCKm",
        "outputId": "e40ca38b-3db3-4990-874e-931d38fb6b33"
      },
      "source": [
        "employees = {'Alice' : 100000, 'Bob' : 99817, 'Carol' : 122908, 'Frank' : 88123,'Eve' : 93121}\r\n",
        "list1=[]\r\n",
        "for a,b in employees.items():\r\n",
        "  if b >= 100000:\r\n",
        "    list1.append(a)\r\n",
        "print(list1)"
      ],
      "execution_count": null,
      "outputs": [
        {
          "output_type": "stream",
          "text": [
            "['Alice', 'Carol']\n"
          ],
          "name": "stdout"
        }
      ]
    },
    {
      "cell_type": "markdown",
      "metadata": {
        "id": "xxvpmljjsCzf"
      },
      "source": [
        "# #2\r\n",
        "\r\n",
        "Create a list of all the even squares from 1 to 1000, and sort it so it is largest to smallest."
      ]
    },
    {
      "cell_type": "code",
      "metadata": {
        "colab": {
          "base_uri": "https://localhost:8080/"
        },
        "id": "9FL981xrsIkz",
        "outputId": "439719ef-3aa2-4886-b013-c5c207f42192"
      },
      "source": [
        "import math\r\n",
        "list1=[]\r\n",
        "for i in range(1,1001):\r\n",
        "    a = math.sqrt(i)\r\n",
        "    if a%2 == 0:\r\n",
        "      list1.append(a)\r\n",
        "list1.reverse()\r\n",
        "print(list1)\r\n",
        "\r\n"
      ],
      "execution_count": null,
      "outputs": [
        {
          "output_type": "stream",
          "text": [
            "[30.0, 28.0, 26.0, 24.0, 22.0, 20.0, 18.0, 16.0, 14.0, 12.0, 10.0, 8.0, 6.0, 4.0, 2.0]\n"
          ],
          "name": "stdout"
        }
      ]
    },
    {
      "cell_type": "markdown",
      "metadata": {
        "id": "uFl4PGO-tVFy"
      },
      "source": [
        "# #3\r\n",
        "\r\n",
        "Find all words in the text that are greater than 6 letters and store in a list: ​Call me Ishmael. Some years ago - never mind how long precisely - having little or nomoney in my purse, and nothing particular to interest me on shore, I thought Iwould sail about a little and see the watery part of the world. It is a way I have ofdriving off the spleen, and regulating the circulation. - Moby Dick'''"
      ]
    },
    {
      "cell_type": "code",
      "metadata": {
        "colab": {
          "base_uri": "https://localhost:8080/"
        },
        "id": "dAe8Tbf4tat6",
        "outputId": "dd37cad8-8c01-4380-dea3-345b41ca9be9"
      },
      "source": [
        "word = 'Call me Ishmael. Some years ago - never mind how long precisely - \\\r\n",
        "having little or no money in my purse, and nothing particular to interest\\\r\n",
        "me on shore, I thought I would sail about a little and see the watery part\\\r\n",
        "of  the world. It is a way I have of driving off the spleen, and regulating\\\r\n",
        "the  circulation. - Moby Dick'\r\n",
        "list_word = []\r\n",
        "for i in word.split():\r\n",
        "  if len(i)>=6:\r\n",
        "    list_word.append(i)    \r\n",
        "print(list_word)"
      ],
      "execution_count": null,
      "outputs": [
        {
          "output_type": "stream",
          "text": [
            "['Ishmael.', 'precisely', 'having', 'little', 'purse,', 'nothing', 'particular', 'interestme', 'shore,', 'thought', 'little', 'watery', 'partof', 'world.', 'driving', 'spleen,', 'regulatingthe', 'circulation.']\n"
          ],
          "name": "stdout"
        }
      ]
    },
    {
      "cell_type": "markdown",
      "metadata": {
        "id": "UHECEnozyOhG"
      },
      "source": [
        "# #4\r\n",
        "\r\n",
        "Create a new data set that includes every other data point. ​ price = [[9.9, 9.8, 9.8,9.4, 9.5, 9.7],  [9.5, 9.4, 9.4, 9.3, 9.2, 9.1], [8.4, 7.9, 7.9, 8.1, 8.0, 8.0],  [7.1, 5.9,4.8, 4.8, 4.7, 3.9]]"
      ]
    },
    {
      "cell_type": "code",
      "metadata": {
        "colab": {
          "base_uri": "https://localhost:8080/"
        },
        "id": "4yRAnkSuyUye",
        "outputId": "ce97c2b3-0ef3-4bb4-c055-3d434f32c3d7"
      },
      "source": [
        "price = [[9.9, 9.8, 9.8,9.4, 9.5, 9.7],  [9.5, 9.4, 9.4, 9.3, 9.2, 9.1], [8.4, 7.9, 7.9, 8.1, 8.0, 8.0],  [7.1, 5.9,4.8, 4.8, 4.7, 3.9]]\r\n",
        "newlist=[]\r\n",
        "for c in range(4):\r\n",
        "  for i in range(0,6,2):\r\n",
        "    a=price[c][i]\r\n",
        "    newlist.append(a)\r\n",
        "print(newlist)"
      ],
      "execution_count": null,
      "outputs": [
        {
          "output_type": "stream",
          "text": [
            "[9.9, 9.8, 9.5, 9.5, 9.4, 9.2, 8.4, 7.9, 8.0, 7.1, 4.8, 4.7]\n"
          ],
          "name": "stdout"
        }
      ]
    },
    {
      "cell_type": "markdown",
      "metadata": {
        "id": "RAVQ3-xs4xKn"
      },
      "source": [
        "# #5\r\n",
        "\r\n",
        "Take the data and remove the first and last two values. Create ten copies of thedata stored as one list. Use plt.plot to plot it. ​cardiac_cycle = [62, 60, 62, 64, 68,77, 80, 76, 71, 66, 61, 60, 62]"
      ]
    },
    {
      "cell_type": "code",
      "metadata": {
        "colab": {
          "base_uri": "https://localhost:8080/",
          "height": 319
        },
        "id": "Ielm73q35MmP",
        "outputId": "f10272cf-cf2c-4c07-b87b-51254470fcff"
      },
      "source": [
        " import matplotlib.pyplot as plt\r\n",
        " cardiac_cycle = [62, 60, 62, 64, 68,77, 80, 76, 71, 66, 61, 60, 62]\r\n",
        " del cardiac_cycle[0]\r\n",
        " del cardiac_cycle[len(cardiac_cycle)-1]\r\n",
        " cardiac_cycle*=10\r\n",
        " print(cardiac_cycle)\r\n",
        "plt.plot(cardiac_cycle)\r\n",
        "plt.plot()"
      ],
      "execution_count": null,
      "outputs": [
        {
          "output_type": "stream",
          "text": [
            "[60, 62, 64, 68, 77, 80, 76, 71, 66, 61, 60, 60, 62, 64, 68, 77, 80, 76, 71, 66, 61, 60, 60, 62, 64, 68, 77, 80, 76, 71, 66, 61, 60, 60, 62, 64, 68, 77, 80, 76, 71, 66, 61, 60, 60, 62, 64, 68, 77, 80, 76, 71, 66, 61, 60, 60, 62, 64, 68, 77, 80, 76, 71, 66, 61, 60, 60, 62, 64, 68, 77, 80, 76, 71, 66, 61, 60, 60, 62, 64, 68, 77, 80, 76, 71, 66, 61, 60, 60, 62, 64, 68, 77, 80, 76, 71, 66, 61, 60, 60, 62, 64, 68, 77, 80, 76, 71, 66, 61, 60]\n"
          ],
          "name": "stdout"
        },
        {
          "output_type": "execute_result",
          "data": {
            "text/plain": [
              "[]"
            ]
          },
          "metadata": {
            "tags": []
          },
          "execution_count": 24
        },
        {
          "output_type": "display_data",
          "data": {
            "image/png": "[encoded data removed]",
            "text/plain": [
              "<Figure size 432x288 with 1 Axes>"
            ]
          },
          "metadata": {
            "tags": [],
            "needs_background": "light"
          }
        }
      ]
    },
    {
      "cell_type": "markdown",
      "metadata": {
        "id": "rNvk7ety7r0Z"
      },
      "source": [
        "# #*6*\r\n",
        "\r\n",
        "---\r\n",
        "\r\n",
        "---\r\n",
        "\r\n",
        "\r\n",
        "\r\n",
        "\r\n",
        "\r\n",
        "*Create a list of any company who pays its employees less than $9 an hour.companies = {    'CoolCompany' : {'Alice' : 33, 'Bob' : 28, 'Frank' : 29},'CheapCompany' : {'Ann' : 4, 'Lee' : 9, 'Chrisi' : 7},    'SosoCompany' : {'Esther' :38, 'Cole' : 8, 'Paris' : 18}}*"
      ]
    },
    {
      "cell_type": "code",
      "metadata": {
        "id": "NzN-EFymA0yL",
        "colab": {
          "base_uri": "https://localhost:8080/"
        },
        "outputId": "443dc266-fae4-4524-e938-82831c22398f"
      },
      "source": [
        "companies = { 'CoolCompany' : \r\n",
        "             {'Alice' : 33, 'Bob' : 28, 'Frank' : 29},'CheapCompany' : \r\n",
        "             {'Ann' : 4, 'Lee' : 9, 'Chrisi' : 7}, 'SosoCompany' : \r\n",
        "             {'Esther' :38, 'Cole' : 8, 'Paris' : 18}}\r\n",
        "#companies =  {'Alice' : 33, 'Bob' : 28, 'Frank' : 29}\r\n",
        "print(companies)\r\n",
        "badComp = []\r\n",
        "\r\n",
        "for item in companies:\r\n",
        "  for vals in companies[item].values():\r\n",
        "    if vals < 9:\r\n",
        "        badComp.append(item) \r\n",
        "print(set(badComp))\r\n",
        " "
      ],
      "execution_count": 11,
      "outputs": [
        {
          "output_type": "stream",
          "text": [
            "{'CoolCompany': {'Alice': 33, 'Bob': 28, 'Frank': 29}, 'CheapCompany': {'Ann': 4, 'Lee': 9, 'Chrisi': 7}, 'SosoCompany': {'Esther': 38, 'Cole': 8, 'Paris': 18}}\n",
            "{'CheapCompany', 'SosoCompany'}\n"
          ],
          "name": "stdout"
        }
      ]
    },
    {
      "cell_type": "markdown",
      "metadata": {
        "id": "AF-6lpbHAzGn"
      },
      "source": [
        "# #7\r\n",
        "\r\n",
        "\r\n",
        "zip and unzip the following two lists: ​lst_1 = [1, 2, 3] and lst_2 = [4, 5, 6]\r\n"
      ]
    },
    {
      "cell_type": "code",
      "metadata": {
        "id": "L9MzTFrHA7zR",
        "colab": {
          "base_uri": "https://localhost:8080/"
        },
        "outputId": "2c146136-f13b-4c5d-c76f-18e28a7513e7"
      },
      "source": [
        "lst_1 = [1, 2, 3]\r\n",
        "lst_2 = [4, 5, 6]\r\n",
        "\r\n",
        "zipp = list(zip(lst_1,lst_2))\r\n",
        "print(zipp)\r\n",
        "a,b = zip(*zipp)\r\n",
        "print(a,b)"
      ],
      "execution_count": null,
      "outputs": [
        {
          "output_type": "stream",
          "text": [
            "[(1, 4), (2, 5), (3, 6)]\n",
            "(1, 2, 3) (4, 5, 6)\n"
          ],
          "name": "stdout"
        }
      ]
    },
    {
      "cell_type": "markdown",
      "metadata": {
        "id": "Tx0m6jL7A8GQ"
      },
      "source": [
        "# #8\r\n",
        "\r\n",
        "Given the matrices a and b. Add, subtract, multiply, and divide a by b. Find themax, min and average as well. ​a = np.array([[1, 0, 0],  [1, 1, 1],   [2, 0, 0]])      b =np.array([[1, 1, 1],  [1, 1, 2],    [1, 1, 2]])"
      ]
    },
    {
      "cell_type": "code",
      "metadata": {
        "id": "ElR0hMqDBBe3",
        "colab": {
          "base_uri": "https://localhost:8080/"
        },
        "outputId": "b8137e8d-ee88-4a4c-a9d0-73da94869dbc"
      },
      "source": [
        "import numpy as np\r\n",
        "a = np.array([[1, 0, 0], [1, 1, 1], [2, 0, 0]]) \r\n",
        "b =np.array([[1, 1, 1], [1, 1, 2], [1, 1, 2]])\r\n",
        "\r\n",
        "c = np.add(a,b)\r\n",
        "dsub = np.subtract(a,b)\r\n",
        "emult = np.multiply(a,b)\r\n",
        "fdiv = np.divide(a,b)\r\n",
        "z=a,b\r\n",
        "gmax = np.max(z)\r\n",
        "hmin = np.min(z)\r\n",
        "iavg = np.average(z)\r\n",
        "print(hmin)"
      ],
      "execution_count": null,
      "outputs": [
        {
          "output_type": "stream",
          "text": [
            "0\n"
          ],
          "name": "stdout"
        }
      ]
    },
    {
      "cell_type": "markdown",
      "metadata": {
        "id": "tDQ6oU3gBJKQ"
      },
      "source": [
        "# #9\r\n",
        "\r\n",
        "find the max salary after taxes are taken out. Here alice, bob, and tim havesalaries recorded for the years 2019, 2020, and 2021.a.alice = [99, 101, 103]b.bob = [110, 108, 105]c.tim = [90, 88, 85]d.salaries = np.array([alice, bob, tim])e.taxation = np.array([[0.2, 0.25, 0.22], [0.4, 0.5, 0.5], [0.1, 0.2, 0.1]])"
      ]
    },
    {
      "cell_type": "code",
      "metadata": {
        "id": "6Rkpov0mBUVk",
        "colab": {
          "base_uri": "https://localhost:8080/"
        },
        "outputId": "7d305a43-7d31-47a2-cda4-7df1b02234b2"
      },
      "source": [
        "import numpy as np\r\n",
        "\r\n",
        "alice = [99, 101, 103]\r\n",
        "bob = [110, 108, 105]\r\n",
        "tim = [90, 88, 85]\r\n",
        "\r\n",
        "salaries = np.array([alice, bob, tim])\r\n",
        "taxation = np.array([[0.2, 0.25, 0.22], \r\n",
        "                     [0.4, 0.5, 0.5], \r\n",
        "                     [0.1, 0.2, 0.1]])\r\n",
        "\r\n",
        "income = np.max(salaries -salaries *  taxation)\r\n",
        "\r\n",
        "print(income)"
      ],
      "execution_count": null,
      "outputs": [
        {
          "output_type": "stream",
          "text": [
            "81.0\n"
          ],
          "name": "stdout"
        }
      ]
    },
    {
      "cell_type": "markdown",
      "metadata": {
        "id": "_DEOhkyiKhZV"
      },
      "source": [
        "# #10\r\n",
        "\r\n",
        "10.Increase the salary for only data scientists every other yeara.# Data: yearly salary in ($1000) [2019, 2020, 2021]b.dataScientist =     [130, 132, 137]c.productManager =    [127, 140, 145]d.designer =          [118, 118, 127]e.softwareEngineer =  [129, 131, 137]\r\n",
        "Data Sciencef.employees = np.array([dataScientist, productManager, designer,softwareEngineer])"
      ]
    },
    {
      "cell_type": "code",
      "metadata": {
        "id": "qzrd-LOQKnLp",
        "colab": {
          "base_uri": "https://localhost:8080/"
        },
        "outputId": "103c4317-0f54-486f-f78a-14eb30c25d0b"
      },
      "source": [
        "#yearly salary in ($1000) [2019, 2020, 2021]\r\n",
        "dataScientist = [130, 132, 137]\r\n",
        "productManager = [127, 140, 145]\r\n",
        "designer = [118, 118, 127]\r\n",
        "softwareEngineer = [129, 131, 137] \r\n",
        "employees = np.array([dataScientist, productManager, designer,softwareEngineer])\r\n",
        "\r\n",
        "employees[0,::2] = employees[0,::2]*1.1\r\n",
        "print(employees)"
      ],
      "execution_count": null,
      "outputs": [
        {
          "output_type": "stream",
          "text": [
            "[[143 132 150]\n",
            " [127 140 145]\n",
            " [118 118 127]\n",
            " [129 131 137]]\n"
          ],
          "name": "stdout"
        }
      ]
    },
    {
      "cell_type": "markdown",
      "metadata": {
        "id": "uAzTbJFHKqv5"
      },
      "source": [
        "# #11\r\n",
        "\r\n",
        "Find all cities with above-average pollution peaks from a set of data\r\n",
        ".a.Data: air quality index AQI data (row = city)\r\n",
        "b.X = np.array([[ 42, 40, 41, 43, 44, 43 ], \r\n",
        "                [ 30, 31, 29, 29, 29, 30 ], \r\n",
        "                [ 8, 13,31, 11, 11, 9 ], \r\n",
        "                [ 11, 11, 12, 13, 11, 12 ]])\r\n",
        "c.cities = np.array([\"Hong Kong\", \"New York\", \"Berlin\", \"Montreal\"])\r\n"
      ]
    },
    {
      "cell_type": "code",
      "metadata": {
        "id": "VXg5k3UmKvQk",
        "colab": {
          "base_uri": "https://localhost:8080/"
        },
        "outputId": "bbaf4023-78f7-4d61-be9e-c27670587a7a"
      },
      "source": [
        "import numpy as np\r\n",
        "#Data: air quality index AQI data (row = city)\r\n",
        "cities = np.array([\"Hong Kong\", \"New York\", \"Berlin\", \"Montreal\"])\r\n",
        "x = np.array([[ 42, 40, 41, 43, 44, 43 ], \r\n",
        "              [ 30, 31, 29, 29, 29, 30 ], \r\n",
        "              [ 8, 13,31, 11, 11, 9 ], \r\n",
        "              [ 11, 11, 12, 13, 11, 12 ]])\r\n",
        "\r\n",
        "avg = np.average(x)\r\n",
        "bad = set(cities[np.nonzero(x>avg)[0]])\r\n",
        "print(avg)\r\n",
        "\r\n",
        "#if cities > avg:\r\n",
        "print(bad)"
      ],
      "execution_count": null,
      "outputs": [
        {
          "output_type": "stream",
          "text": [
            "24.333333333333332\n",
            "{'New York', 'Hong Kong', 'Berlin'}\n"
          ],
          "name": "stdout"
        }
      ]
    },
    {
      "cell_type": "markdown",
      "metadata": {
        "id": "226D0iXlKwME"
      },
      "source": [
        "# #12\r\n",
        "\r\n",
        "Given an array of temperature values, replace every seventh temperature valuewith the average of the last seven days (including the seventh day’s temperaturevalue).a.# Sensor data (Mo, Tu, We, Th, Fr, Sa, Su)b.tmp = np.array([1.1, 2.1, 3, 4.6, 3.8, 4.1, 4, 5, 3.3, 3, 4.6, 3.6, 4.2, 6, 6, 5.1,5.2, 5.6, 4, 5, 5])"
      ]
    },
    {
      "cell_type": "code",
      "metadata": {
        "id": "xf6F9P_XK09C",
        "colab": {
          "base_uri": "https://localhost:8080/"
        },
        "outputId": "de98d7bc-3863-4bf9-dffd-1006d0540685"
      },
      "source": [
        "import numpy as np\r\n",
        "#Sensor data (Mo, Tu, We, Th, Fr, Sa, Su)\r\n",
        "tmp = np.array([1.1, 2.1, 3, 4.6, 3.8, 4.1, 4, 5, 3.3, 3, 4.6, 3.6, 4.2, 6, 6, 5.1,5.2, 5.6, 4, 5, 5])\r\n",
        "tmps=tmp.reshape(-1,7)\r\n",
        "print(tmp)\r\n"
      ],
      "execution_count": 178,
      "outputs": [
        {
          "output_type": "stream",
          "text": [
            "[1.1 2.1 3.  4.6 3.8 4.1 4.  5.  3.3 3.  4.6 3.6 4.2 6.  6.  5.1 5.2 5.6\n",
            " 4.  5.  5. ]\n"
          ],
          "name": "stdout"
        }
      ]
    },
    {
      "cell_type": "markdown",
      "metadata": {
        "id": "IWjj0bwhCAxz"
      },
      "source": [
        "# #13\r\n",
        "\r\n",
        "Create a function and/or lambda expression that checks if two words areanagrams, such as ‘elvis’ and ‘lives’."
      ]
    },
    {
      "cell_type": "code",
      "metadata": {
        "colab": {
          "base_uri": "https://localhost:8080/"
        },
        "id": "BTSiTKtrCGVP",
        "outputId": "bbf1ffd6-f7a6-46a4-993e-6080d0aec591"
      },
      "source": [
        "def main():\r\n",
        "  word1 = input('enter first word ')\r\n",
        "  word2 = input('enter second word ')\r\n",
        "  check(word1,word2)\r\n",
        "def check(a,b):\r\n",
        "  anagram1 = 0\r\n",
        "  anagram2 = 0\r\n",
        "  for i in a:\r\n",
        "    if i in b:\r\n",
        "      anagram1+=1\r\n",
        "  for i in b:\r\n",
        "    if i in a:\r\n",
        "      anagram2+=1\r\n",
        "  print(anagram2,anagram1)\r\n",
        "  if anagram1 == anagram2:\r\n",
        "    print('match')\r\n",
        "  else:\r\n",
        "    print('not a match')\r\n",
        "main()"
      ],
      "execution_count": null,
      "outputs": [
        {
          "output_type": "stream",
          "text": [
            "enter first word hello\n",
            "enter second word olleh\n",
            "5 5\n",
            "match\n"
          ],
          "name": "stdout"
        }
      ]
    },
    {
      "cell_type": "markdown",
      "metadata": {
        "id": "S1Cu9fYoKRwY"
      },
      "source": [
        "# 14\r\n",
        "\r\n",
        "Create a function and/or lambda expression that checks if a phrase is apalindrome"
      ]
    },
    {
      "cell_type": "code",
      "metadata": {
        "id": "6cW7v_yEKVV5",
        "colab": {
          "base_uri": "https://localhost:8080/"
        },
        "outputId": "db6a39fa-1a91-4518-9a8b-ae8ae0401c29"
      },
      "source": [
        "def palindrome(a,b):  \r\n",
        "  b= b[::-1].replace(\" \", \"\")\r\n",
        "  a= a.replace(\" \", \"\")\r\n",
        "  if a.lower() == b.lower():\r\n",
        "      return 'match'\r\n",
        "  else:\r\n",
        "    return 'not match'\r\n",
        "print(palindrome('cat','t a c'))"
      ],
      "execution_count": null,
      "outputs": [
        {
          "output_type": "stream",
          "text": [
            "match\n"
          ],
          "name": "stdout"
        }
      ]
    },
    {
      "cell_type": "markdown",
      "metadata": {
        "id": "JtgGmZbmKWWl"
      },
      "source": [
        "# #15\r\n",
        "\r\n",
        "Create a recursive factorial lambda"
      ]
    },
    {
      "cell_type": "code",
      "metadata": {
        "id": "DVVGT_qnKdxU",
        "colab": {
          "base_uri": "https://localhost:8080/"
        },
        "outputId": "b8f8a088-e50b-48e9-b220-bd0f32af1360"
      },
      "source": [
        "import math\r\n",
        "\r\n",
        "num = (lambda x: math.factorial(x))\r\n",
        "nums = (lambda x: x if x == 1 or x == 0  else x * nums(x - 1))\r\n",
        "print(nums(4))"
      ],
      "execution_count": null,
      "outputs": [
        {
          "output_type": "stream",
          "text": [
            "24\n"
          ],
          "name": "stdout"
        }
      ]
    }
  ]
}