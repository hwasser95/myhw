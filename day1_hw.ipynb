{
  "nbformat": 4,
  "nbformat_minor": 0,
  "metadata": {
    "colab": {
      "name": "day1_hw.ipynb",
      "provenance": [],
      "authorship_tag": "ABX9TyNj/39OEbRtHr3rEFn982Y6",
      "include_colab_link": true
    },
    "kernelspec": {
      "name": "python3",
      "display_name": "Python 3"
    },
    "language_info": {
      "name": "python"
    }
  },
  "cells": [
    {
      "cell_type": "markdown",
      "metadata": {
        "id": "view-in-github",
        "colab_type": "text"
      },
      "source": [
        "<a href=\"https://colab.research.google.com/github/hwasser95/myhw/blob/main/day1_hw.ipynb\" target=\"_parent\"><img src=\"https://colab.research.google.com/assets/colab-badge.svg\" alt=\"Open In Colab\"/></a>"
      ]
    },
    {
      "cell_type": "code",
      "metadata": {
        "colab": {
          "base_uri": "https://localhost:8080/",
          "height": 343
        },
        "id": "L_pNSYp6VdUF",
        "outputId": "b940760d-666e-47af-b454-aaede1c662f2"
      },
      "source": [
        "# load the pandas library\n",
        "import pandas as pd\n",
        "import numpy as np\n",
        "\n",
        "# load the train_test_split function from the sklearn.model_selection module\n",
        "from sklearn.model_selection import train_test_split\n",
        "\n",
        "# start by reading a set of sample data from github. This data contains data related to wines\n",
        "filename = \"https://raw.githubusercontent.com/hwasser95/myhw/main/Day1_Data%20-%20M2_Data%20(1).csv.csv\"\n",
        "df = pd.read_csv(filename)\n",
        "\n",
        "\n",
        "\n",
        "#set up a clean copy as a safety for later\n",
        "df_copy = df\n",
        "df.head(10)"
      ],
      "execution_count": 42,
      "outputs": [
        {
          "output_type": "execute_result",
          "data": {
            "text/html": [
              "<div>\n",
              "<style scoped>\n",
              "    .dataframe tbody tr th:only-of-type {\n",
              "        vertical-align: middle;\n",
              "    }\n",
              "\n",
              "    .dataframe tbody tr th {\n",
              "        vertical-align: top;\n",
              "    }\n",
              "\n",
              "    .dataframe thead th {\n",
              "        text-align: right;\n",
              "    }\n",
              "</style>\n",
              "<table border=\"1\" class=\"dataframe\">\n",
              "  <thead>\n",
              "    <tr style=\"text-align: right;\">\n",
              "      <th></th>\n",
              "      <th>T</th>\n",
              "      <th>V</th>\n",
              "      <th>AP</th>\n",
              "      <th>RH</th>\n",
              "      <th>EP</th>\n",
              "    </tr>\n",
              "  </thead>\n",
              "  <tbody>\n",
              "    <tr>\n",
              "      <th>0</th>\n",
              "      <td>14.96</td>\n",
              "      <td>41.76</td>\n",
              "      <td>1024.07</td>\n",
              "      <td>73.17</td>\n",
              "      <td>463.26</td>\n",
              "    </tr>\n",
              "    <tr>\n",
              "      <th>1</th>\n",
              "      <td>25.18</td>\n",
              "      <td>62.96</td>\n",
              "      <td>1020.04</td>\n",
              "      <td>59.08</td>\n",
              "      <td>444.37</td>\n",
              "    </tr>\n",
              "    <tr>\n",
              "      <th>2</th>\n",
              "      <td>5.11</td>\n",
              "      <td>39.40</td>\n",
              "      <td>1012.16</td>\n",
              "      <td>92.14</td>\n",
              "      <td>488.56</td>\n",
              "    </tr>\n",
              "    <tr>\n",
              "      <th>3</th>\n",
              "      <td>20.86</td>\n",
              "      <td>57.32</td>\n",
              "      <td>1010.24</td>\n",
              "      <td>76.64</td>\n",
              "      <td>446.48</td>\n",
              "    </tr>\n",
              "    <tr>\n",
              "      <th>4</th>\n",
              "      <td>10.82</td>\n",
              "      <td>37.50</td>\n",
              "      <td>1009.23</td>\n",
              "      <td>96.62</td>\n",
              "      <td>473.90</td>\n",
              "    </tr>\n",
              "    <tr>\n",
              "      <th>5</th>\n",
              "      <td>26.27</td>\n",
              "      <td>59.44</td>\n",
              "      <td>1012.23</td>\n",
              "      <td>58.77</td>\n",
              "      <td>443.67</td>\n",
              "    </tr>\n",
              "    <tr>\n",
              "      <th>6</th>\n",
              "      <td>15.89</td>\n",
              "      <td>43.96</td>\n",
              "      <td>1014.02</td>\n",
              "      <td>75.24</td>\n",
              "      <td>467.35</td>\n",
              "    </tr>\n",
              "    <tr>\n",
              "      <th>7</th>\n",
              "      <td>9.48</td>\n",
              "      <td>44.71</td>\n",
              "      <td>1019.12</td>\n",
              "      <td>66.43</td>\n",
              "      <td>478.42</td>\n",
              "    </tr>\n",
              "    <tr>\n",
              "      <th>8</th>\n",
              "      <td>14.64</td>\n",
              "      <td>45.00</td>\n",
              "      <td>1021.78</td>\n",
              "      <td>41.25</td>\n",
              "      <td>475.98</td>\n",
              "    </tr>\n",
              "    <tr>\n",
              "      <th>9</th>\n",
              "      <td>11.74</td>\n",
              "      <td>43.56</td>\n",
              "      <td>1015.14</td>\n",
              "      <td>70.72</td>\n",
              "      <td>477.50</td>\n",
              "    </tr>\n",
              "  </tbody>\n",
              "</table>\n",
              "</div>"
            ],
            "text/plain": [
              "       T      V       AP     RH      EP\n",
              "0  14.96  41.76  1024.07  73.17  463.26\n",
              "1  25.18  62.96  1020.04  59.08  444.37\n",
              "2   5.11  39.40  1012.16  92.14  488.56\n",
              "3  20.86  57.32  1010.24  76.64  446.48\n",
              "4  10.82  37.50  1009.23  96.62  473.90\n",
              "5  26.27  59.44  1012.23  58.77  443.67\n",
              "6  15.89  43.96  1014.02  75.24  467.35\n",
              "7   9.48  44.71  1019.12  66.43  478.42\n",
              "8  14.64  45.00  1021.78  41.25  475.98\n",
              "9  11.74  43.56  1015.14  70.72  477.50"
            ]
          },
          "metadata": {
            "tags": []
          },
          "execution_count": 42
        }
      ]
    },
    {
      "cell_type": "markdown",
      "metadata": {
        "id": "MjacrqLIoAr2"
      },
      "source": [
        "Attribute Information:\n",
        "\n",
        "Features consist of hourly average ambient variables\n",
        "- Temperature (T) in the range 1.81°C and 37.11°C,\n",
        "- Ambient Pressure (AP) in the range 992.89-1033.30 milibar,\n",
        "- Relative Humidity (RH) in the range 25.56% to 100.16%\n",
        "- Exhaust Vacuum (V) in the range 25.36-81.56 cm Hg\n",
        "- Net hourly electrical energy output (EP) 420.26-495.76 MW\n",
        "The averages are taken from various sensors located around the plant that record the ambient variables every second. The variables are given without normalization.\n",
        "\n"
      ]
    },
    {
      "cell_type": "markdown",
      "metadata": {
        "id": "vpM54wknSHj-"
      },
      "source": [
        "i'm going to check for missing values. comparing the len to non-null"
      ]
    },
    {
      "cell_type": "code",
      "metadata": {
        "colab": {
          "base_uri": "https://localhost:8080/"
        },
        "id": "qN95ft5TRaxv",
        "outputId": "a0d1bc13-e412-45c3-bd2b-77a1be861a5b"
      },
      "source": [
        "print(len(df))\n",
        "df.info()"
      ],
      "execution_count": 43,
      "outputs": [
        {
          "output_type": "stream",
          "text": [
            "9568\n",
            "<class 'pandas.core.frame.DataFrame'>\n",
            "RangeIndex: 9568 entries, 0 to 9567\n",
            "Data columns (total 5 columns):\n",
            " #   Column  Non-Null Count  Dtype  \n",
            "---  ------  --------------  -----  \n",
            " 0   T       9568 non-null   float64\n",
            " 1   V       9568 non-null   float64\n",
            " 2   AP      9568 non-null   float64\n",
            " 3   RH      9568 non-null   float64\n",
            " 4   EP      9568 non-null   float64\n",
            "dtypes: float64(5)\n",
            "memory usage: 373.9 KB\n"
          ],
          "name": "stdout"
        }
      ]
    },
    {
      "cell_type": "markdown",
      "metadata": {
        "id": "JcxnOaBlR_N9"
      },
      "source": [
        "there do not appear to be missing values"
      ]
    },
    {
      "cell_type": "markdown",
      "metadata": {
        "id": "zWCQzsJmnMSf"
      },
      "source": [
        "I’m going to check different measures and see if anything sticks out"
      ]
    },
    {
      "cell_type": "code",
      "metadata": {
        "colab": {
          "base_uri": "https://localhost:8080/",
          "height": 284
        },
        "id": "2hyHWGavsKf9",
        "outputId": "e4c711f4-c137-420f-faa8-410a03cb2bff"
      },
      "source": [
        "df.describe()"
      ],
      "execution_count": 44,
      "outputs": [
        {
          "output_type": "execute_result",
          "data": {
            "text/html": [
              "<div>\n",
              "<style scoped>\n",
              "    .dataframe tbody tr th:only-of-type {\n",
              "        vertical-align: middle;\n",
              "    }\n",
              "\n",
              "    .dataframe tbody tr th {\n",
              "        vertical-align: top;\n",
              "    }\n",
              "\n",
              "    .dataframe thead th {\n",
              "        text-align: right;\n",
              "    }\n",
              "</style>\n",
              "<table border=\"1\" class=\"dataframe\">\n",
              "  <thead>\n",
              "    <tr style=\"text-align: right;\">\n",
              "      <th></th>\n",
              "      <th>T</th>\n",
              "      <th>V</th>\n",
              "      <th>AP</th>\n",
              "      <th>RH</th>\n",
              "      <th>EP</th>\n",
              "    </tr>\n",
              "  </thead>\n",
              "  <tbody>\n",
              "    <tr>\n",
              "      <th>count</th>\n",
              "      <td>9568.000000</td>\n",
              "      <td>9568.000000</td>\n",
              "      <td>9568.000000</td>\n",
              "      <td>9568.000000</td>\n",
              "      <td>9568.000000</td>\n",
              "    </tr>\n",
              "    <tr>\n",
              "      <th>mean</th>\n",
              "      <td>19.651231</td>\n",
              "      <td>54.305804</td>\n",
              "      <td>1013.259078</td>\n",
              "      <td>73.308978</td>\n",
              "      <td>454.365009</td>\n",
              "    </tr>\n",
              "    <tr>\n",
              "      <th>std</th>\n",
              "      <td>7.452473</td>\n",
              "      <td>12.707893</td>\n",
              "      <td>5.938784</td>\n",
              "      <td>14.600269</td>\n",
              "      <td>17.066995</td>\n",
              "    </tr>\n",
              "    <tr>\n",
              "      <th>min</th>\n",
              "      <td>1.810000</td>\n",
              "      <td>25.360000</td>\n",
              "      <td>992.890000</td>\n",
              "      <td>25.560000</td>\n",
              "      <td>420.260000</td>\n",
              "    </tr>\n",
              "    <tr>\n",
              "      <th>25%</th>\n",
              "      <td>13.510000</td>\n",
              "      <td>41.740000</td>\n",
              "      <td>1009.100000</td>\n",
              "      <td>63.327500</td>\n",
              "      <td>439.750000</td>\n",
              "    </tr>\n",
              "    <tr>\n",
              "      <th>50%</th>\n",
              "      <td>20.345000</td>\n",
              "      <td>52.080000</td>\n",
              "      <td>1012.940000</td>\n",
              "      <td>74.975000</td>\n",
              "      <td>451.550000</td>\n",
              "    </tr>\n",
              "    <tr>\n",
              "      <th>75%</th>\n",
              "      <td>25.720000</td>\n",
              "      <td>66.540000</td>\n",
              "      <td>1017.260000</td>\n",
              "      <td>84.830000</td>\n",
              "      <td>468.430000</td>\n",
              "    </tr>\n",
              "    <tr>\n",
              "      <th>max</th>\n",
              "      <td>37.110000</td>\n",
              "      <td>81.560000</td>\n",
              "      <td>1033.300000</td>\n",
              "      <td>100.160000</td>\n",
              "      <td>495.760000</td>\n",
              "    </tr>\n",
              "  </tbody>\n",
              "</table>\n",
              "</div>"
            ],
            "text/plain": [
              "                 T            V           AP           RH           EP\n",
              "count  9568.000000  9568.000000  9568.000000  9568.000000  9568.000000\n",
              "mean     19.651231    54.305804  1013.259078    73.308978   454.365009\n",
              "std       7.452473    12.707893     5.938784    14.600269    17.066995\n",
              "min       1.810000    25.360000   992.890000    25.560000   420.260000\n",
              "25%      13.510000    41.740000  1009.100000    63.327500   439.750000\n",
              "50%      20.345000    52.080000  1012.940000    74.975000   451.550000\n",
              "75%      25.720000    66.540000  1017.260000    84.830000   468.430000\n",
              "max      37.110000    81.560000  1033.300000   100.160000   495.760000"
            ]
          },
          "metadata": {
            "tags": []
          },
          "execution_count": 44
        }
      ]
    },
    {
      "cell_type": "code",
      "metadata": {
        "colab": {
          "base_uri": "https://localhost:8080/",
          "height": 195
        },
        "id": "7wfsRlTVSLVu",
        "outputId": "d87855a5-d2b3-4c6c-daed-4ddf68d6c322"
      },
      "source": [
        "df.corr()"
      ],
      "execution_count": 45,
      "outputs": [
        {
          "output_type": "execute_result",
          "data": {
            "text/html": [
              "<div>\n",
              "<style scoped>\n",
              "    .dataframe tbody tr th:only-of-type {\n",
              "        vertical-align: middle;\n",
              "    }\n",
              "\n",
              "    .dataframe tbody tr th {\n",
              "        vertical-align: top;\n",
              "    }\n",
              "\n",
              "    .dataframe thead th {\n",
              "        text-align: right;\n",
              "    }\n",
              "</style>\n",
              "<table border=\"1\" class=\"dataframe\">\n",
              "  <thead>\n",
              "    <tr style=\"text-align: right;\">\n",
              "      <th></th>\n",
              "      <th>T</th>\n",
              "      <th>V</th>\n",
              "      <th>AP</th>\n",
              "      <th>RH</th>\n",
              "      <th>EP</th>\n",
              "    </tr>\n",
              "  </thead>\n",
              "  <tbody>\n",
              "    <tr>\n",
              "      <th>T</th>\n",
              "      <td>1.000000</td>\n",
              "      <td>0.844107</td>\n",
              "      <td>-0.507549</td>\n",
              "      <td>-0.542535</td>\n",
              "      <td>-0.948128</td>\n",
              "    </tr>\n",
              "    <tr>\n",
              "      <th>V</th>\n",
              "      <td>0.844107</td>\n",
              "      <td>1.000000</td>\n",
              "      <td>-0.413502</td>\n",
              "      <td>-0.312187</td>\n",
              "      <td>-0.869780</td>\n",
              "    </tr>\n",
              "    <tr>\n",
              "      <th>AP</th>\n",
              "      <td>-0.507549</td>\n",
              "      <td>-0.413502</td>\n",
              "      <td>1.000000</td>\n",
              "      <td>0.099574</td>\n",
              "      <td>0.518429</td>\n",
              "    </tr>\n",
              "    <tr>\n",
              "      <th>RH</th>\n",
              "      <td>-0.542535</td>\n",
              "      <td>-0.312187</td>\n",
              "      <td>0.099574</td>\n",
              "      <td>1.000000</td>\n",
              "      <td>0.389794</td>\n",
              "    </tr>\n",
              "    <tr>\n",
              "      <th>EP</th>\n",
              "      <td>-0.948128</td>\n",
              "      <td>-0.869780</td>\n",
              "      <td>0.518429</td>\n",
              "      <td>0.389794</td>\n",
              "      <td>1.000000</td>\n",
              "    </tr>\n",
              "  </tbody>\n",
              "</table>\n",
              "</div>"
            ],
            "text/plain": [
              "           T         V        AP        RH        EP\n",
              "T   1.000000  0.844107 -0.507549 -0.542535 -0.948128\n",
              "V   0.844107  1.000000 -0.413502 -0.312187 -0.869780\n",
              "AP -0.507549 -0.413502  1.000000  0.099574  0.518429\n",
              "RH -0.542535 -0.312187  0.099574  1.000000  0.389794\n",
              "EP -0.948128 -0.869780  0.518429  0.389794  1.000000"
            ]
          },
          "metadata": {
            "tags": []
          },
          "execution_count": 45
        }
      ]
    },
    {
      "cell_type": "markdown",
      "metadata": {
        "id": "W55RASO0XCyu"
      },
      "source": [
        "\n",
        "* the temperature and Exhaust Vacuum appear to be highly correlated\n",
        "* we also see that Temperature is extremly uncorrelated to EP, it is close to -1, it has the biggest affect on the EP\n",
        "*the Exhaust Vacuum is also highly uncorrelated\n",
        "*Ambient Pressure and Relative Humidity are correlated to EP\n",
        "```\n",
        "# This is formatted as code\n",
        "```\n",
        "\n"
      ]
    },
    {
      "cell_type": "code",
      "metadata": {
        "colab": {
          "base_uri": "https://localhost:8080/",
          "height": 607
        },
        "id": "8RwST5EBR9c-",
        "outputId": "63e278e0-6eb6-487a-c8eb-e48c9ddf34b7"
      },
      "source": [
        "import matplotlib.pyplot as plt\n",
        "df.hist(bins=50, figsize=(15,10))\n",
        "plt.show()"
      ],
      "execution_count": 46,
      "outputs": [
        {
          "output_type": "display_data",
          "data": {
            "image/png": "[encoded data removed]",
            "text/plain": [
              "<Figure size 1080x720 with 6 Axes>"
            ]
          },
          "metadata": {
            "tags": [],
            "needs_background": "light"
          }
        }
      ]
    },
    {
      "cell_type": "markdown",
      "metadata": {
        "id": "hPamjsrFzP0m"
      },
      "source": [
        "\n",
        "The distribution of the independent variables from the histograms above:\n",
        "\n",
        "* Temperature has a Bimodal distribution\n",
        "* Exhaust_vacuum has a Bimodal distribution\n",
        "* Ambient_pressure has a roughly Normal distribution\n",
        "* Relative_humidity has a Left Skewd distribution\n",
        "- The distribution of the dependent variable from the histogram above:\n",
        "\n",
        "* Net_hourly_electrical_energy_output has a Bimodal distribution\n",
        "<br>\n",
        "Since the dependent variable 'Net_hourly_electrical_energy_output' has a Bimodal distribution, it is likely that the independent variables 'Temperature' and 'Exhaust_vacuum' who also have a Bimodal distribution will be better predictors than the other two independent variables.\n"
      ]
    },
    {
      "cell_type": "markdown",
      "metadata": {
        "id": "DH20CmoWzaJI"
      },
      "source": [
        "## #2"
      ]
    },
    {
      "cell_type": "code",
      "metadata": {
        "colab": {
          "base_uri": "https://localhost:8080/"
        },
        "id": "thjd3CGdPVPl",
        "outputId": "ed037c05-d63f-445d-f421-15b2379ae3d9"
      },
      "source": [
        "from sklearn.linear_model import LinearRegression\n",
        "\n",
        "from sklearn.model_selection import cross_val_score\n",
        "# I'm creating my x and y variables\n",
        "y = df[['EP']].copy()\n",
        "X = df.drop('EP', axis = 1)\n",
        "# I will split the data into training and testing subsets. \n",
        "# I'll set aside 30% of the data for testing purposes\n",
        "X_train, X_test, y_train, y_test = train_test_split(X, y, test_size=0.3, random_state=12)\n",
        "print(\"X_train size: \" ,len(X_train))\n",
        "print(\"X_test size: \", len(X_test))\n",
        "\n",
        "# Assinging the model function to a variable\n",
        "model = LinearRegression()\n",
        "\n",
        "# fit the model using 10-fold cross validation;\n",
        "scores = cross_val_score(model, X_train, y_train, cv=10)\n",
        "\n",
        "# print out the accuracy metrics derived from the K-fold cross validation process\n",
        "print ('c_v_scores',scores)\n",
        "# calculate the average accuracy across all 10 folds\n",
        "mn=np.mean(scores)\n",
        "print ('mean = ',mn)"
      ],
      "execution_count": 50,
      "outputs": [
        {
          "output_type": "stream",
          "text": [
            "X_train size:  6697\n",
            "X_test size:  2871\n",
            "c_v_scores [0.91716153 0.93249273 0.92539274 0.92903747 0.93497881 0.9240207\n",
            " 0.93374583 0.93074018 0.91945051 0.9288868 ]\n",
            "mean =  0.9275907287106507\n"
          ],
          "name": "stdout"
        }
      ]
    },
    {
      "cell_type": "markdown",
      "metadata": {
        "id": "zqVYGJX0RKNj"
      },
      "source": [
        "This model has a strong performance of 92.76%"
      ]
    },
    {
      "cell_type": "markdown",
      "metadata": {
        "id": "DM1ZOZasSgyC"
      },
      "source": [
        "I'm going to run another model with T and V. \n",
        "Their distrubutions seem to be similar to EP.\n",
        " I will drop AP and RH"
      ]
    },
    {
      "cell_type": "code",
      "metadata": {
        "colab": {
          "base_uri": "https://localhost:8080/"
        },
        "id": "jNy1fIWYQ_zQ",
        "outputId": "714e67a4-2d22-4b96-f5ff-7f158a3ffe04"
      },
      "source": [
        "from sklearn.linear_model import LinearRegression\n",
        "\n",
        "from sklearn.model_selection import cross_val_score\n",
        "# I'm creating my x and y variables\n",
        "y = df[['EP']].copy()\n",
        "X = df.drop(['EP','AP','RH'], axis = 1)\n",
        "# I will split the data into training and testing subsets. \n",
        "# I'll set aside 30% of the data for testing purposes\n",
        "X_train, X_test, y_train, y_test = train_test_split(X, y, test_size=0.3, random_state=12)\n",
        "print(\"X_train size: \" ,len(X_train))\n",
        "print(\"X_test size: \", len(X_test))\n",
        "\n",
        "# Assinging the model function to a variable\n",
        "model = LinearRegression()\n",
        "\n",
        "# fit the model using 10-fold cross validation;\n",
        "scores = cross_val_score(model, X_train, y_train, cv=10)\n",
        "\n",
        "# print out the accuracy metrics derived from the K-fold cross validation process\n",
        "print ('c_v_scores',scores)\n",
        "# calculate the average accuracy across all 10 folds\n",
        "mn=np.mean(scores)\n",
        "print ('mean = ',mn)"
      ],
      "execution_count": 51,
      "outputs": [
        {
          "output_type": "stream",
          "text": [
            "X_train size:  6697\n",
            "X_test size:  2871\n",
            "c_v_scores [0.90125496 0.9188024  0.91232847 0.91858987 0.92210885 0.90963351\n",
            " 0.91711569 0.91853757 0.91312528 0.91637728]\n",
            "mean =  0.9147873877833836\n"
          ],
          "name": "stdout"
        }
      ]
    },
    {
      "cell_type": "markdown",
      "metadata": {
        "id": "dWLOfzOHS-S9"
      },
      "source": [
        "This model also has a strong performance of 91.48%\n",
        "\n"
      ]
    },
    {
      "cell_type": "markdown",
      "metadata": {
        "id": "Axg6aQ6WTDi7"
      },
      "source": [
        "Both models have a very similar cv score.\n",
        "There is less than a 1.5% difference between models. It seems that AP and RH, have little effect on the EP\n"
      ]
    }
  ]
}