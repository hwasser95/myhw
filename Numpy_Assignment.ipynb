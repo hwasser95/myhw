{
  "nbformat": 4,
  "nbformat_minor": 0,
  "metadata": {
    "colab": {
      "name": "Numpy Assignment",
      "provenance": [],
      "authorship_tag": "ABX9TyNcvK79dDO4+kwbqSv7QwAe",
      "include_colab_link": true
    },
    "kernelspec": {
      "name": "python3",
      "display_name": "Python 3"
    }
  },
  "cells": [
    {
      "cell_type": "markdown",
      "metadata": {
        "id": "view-in-github",
        "colab_type": "text"
      },
      "source": [
        "<a href=\"https://colab.research.google.com/github/hwasser95/myhw/blob/main/Numpy_Assignment.ipynb\" target=\"_parent\"><img src=\"https://colab.research.google.com/assets/colab-badge.svg\" alt=\"Open In Colab\"/></a>"
      ]
    },
    {
      "cell_type": "markdown",
      "metadata": {
        "id": "665R6i0L9zwI"
      },
      "source": [
        "# #1\n",
        " (10 Points) Write a Python/NumPy code block that finds the distinct/unique common items between these two\n",
        "arrays:\n",
        "a = np.array([1, 2, 3, 2, 3, 4, 3, 4, 5, 6])\n",
        "b = np.array([7, 2, 10, 2, 7, 4, 9, 4, 9, 8])\n",
        "Your output should contain only the distinct overlapping values. For example, if a 2 is found in both array a and array b,\n",
        "your output should contain only one 2 even if array a contains more than one 2 within it."
      ]
    },
    {
      "cell_type": "code",
      "metadata": {
        "colab": {
          "base_uri": "https://localhost:8080/"
        },
        "id": "a2Piu3QN9qpM",
        "outputId": "7b716009-41bc-434f-dce6-54217d651efb"
      },
      "source": [
        "import numpy as np\n",
        "a = np.array([1, 2, 3, 2, 3, 4, 3, 4, 5, 6])\n",
        "b = np.array([7, 2, 10, 2, 7, 4, 9, 4, 9, 8])\n",
        "l=[]\n",
        "for i in a:\n",
        "  if [i] in b:\n",
        "    l.append(i)\n",
        "print(set(l))\n",
        "  \n"
      ],
      "execution_count": 2,
      "outputs": [
        {
          "output_type": "stream",
          "text": [
            "{2, 4}\n"
          ],
          "name": "stdout"
        }
      ]
    },
    {
      "cell_type": "markdown",
      "metadata": {
        "id": "yKnTT4KD98Zp"
      },
      "source": [
        "# #2\n",
        " (10 Points) ​Create the following 5x3 array using knowledge you have of Python’s / NumPy’s sequencing functionalityso that you do not need to explicitly key in every integer value"
      ]
    },
    {
      "cell_type": "code",
      "metadata": {
        "colab": {
          "base_uri": "https://localhost:8080/"
        },
        "id": "bQYvASjx97pW",
        "outputId": "04b46095-2c1c-4773-e87e-b1d5cf7d69b1"
      },
      "source": [
        "ac=np.arange(1,16,1)\n",
        "ac1=ac.reshape(5,3,order='f')\n",
        "print(ac1)"
      ],
      "execution_count": 3,
      "outputs": [
        {
          "output_type": "stream",
          "text": [
            "[[ 1  6 11]\n",
            " [ 2  7 12]\n",
            " [ 3  8 13]\n",
            " [ 4  9 14]\n",
            " [ 5 10 15]]\n"
          ],
          "name": "stdout"
        }
      ]
    },
    {
      "cell_type": "markdown",
      "metadata": {
        "id": "m37esGmXAVSE"
      },
      "source": [
        "# #3\n",
        "The process of transforming a multidimensional array into a unidimensional array is referred to as“flattening”. Transform the 5x3 array shown above in Problem 2 into a unidimensional array such that the sequence ofvalues contained within the array is as follows: 1, 2, 3, 4, 5, 6, 7, 8, 9, 10, 11, 12, 13, 14, 15"
      ]
    },
    {
      "cell_type": "code",
      "metadata": {
        "colab": {
          "base_uri": "https://localhost:8080/"
        },
        "id": "DGXxOoUKAWcP",
        "outputId": "5bbe6f09-2e70-4496-c2b5-8f0d9e4e1fdf"
      },
      "source": [
        "az=ac.flatten(order='f')\n",
        "print(az)"
      ],
      "execution_count": 4,
      "outputs": [
        {
          "output_type": "stream",
          "text": [
            "[ 1  2  3  4  5  6  7  8  9 10 11 12 13 14 15]\n"
          ],
          "name": "stdout"
        }
      ]
    },
    {
      "cell_type": "markdown",
      "metadata": {
        "id": "pwUwF8gkCa_U"
      },
      "source": [
        "# #4\n",
        "Transform the 2-D array shown in Problem 2 into a 3 dimensional array such that the first column\n",
        "becomes the first dimension of the 3-D array, the second column becomes the second dimension of the 3-D array, and\n",
        "the third column becomes the third dimension of the 3-D array.\n"
      ]
    },
    {
      "cell_type": "code",
      "metadata": {
        "colab": {
          "base_uri": "https://localhost:8080/"
        },
        "id": "SUJ_O5JiDgQZ",
        "outputId": "984e4935-0250-4887-c57b-93049b4b4a67"
      },
      "source": [
        "ac2=ac.reshape(1,5,3,order='f')\n",
        "print(ac2.T)"
      ],
      "execution_count": 5,
      "outputs": [
        {
          "output_type": "stream",
          "text": [
            "[[[ 1]\n",
            "  [ 2]\n",
            "  [ 3]\n",
            "  [ 4]\n",
            "  [ 5]]\n",
            "\n",
            " [[ 6]\n",
            "  [ 7]\n",
            "  [ 8]\n",
            "  [ 9]\n",
            "  [10]]\n",
            "\n",
            " [[11]\n",
            "  [12]\n",
            "  [13]\n",
            "  [14]\n",
            "  [15]]]\n"
          ],
          "name": "stdout"
        }
      ]
    },
    {
      "cell_type": "code",
      "metadata": {
        "colab": {
          "base_uri": "https://localhost:8080/"
        },
        "id": "LoNiS3tyo2be",
        "outputId": "5449e808-8f2b-4ac4-bfff-b261c98d676d"
      },
      "source": [
        "#or \n",
        "print(ac2)"
      ],
      "execution_count": null,
      "outputs": [
        {
          "output_type": "stream",
          "text": [
            "[[[ 1  6 11]\n",
            "  [ 2  7 12]\n",
            "  [ 3  8 13]\n",
            "  [ 4  9 14]\n",
            "  [ 5 10 15]]]\n"
          ],
          "name": "stdout"
        }
      ]
    },
    {
      "cell_type": "markdown",
      "metadata": {
        "id": "iDb54w7ho84e"
      },
      "source": [
        "# #5\n",
        "​Transform the 3-D array you created in Problem 4 back to the 2-dimensional format shown in Problem 2\n"
      ]
    },
    {
      "cell_type": "code",
      "metadata": {
        "colab": {
          "base_uri": "https://localhost:8080/"
        },
        "id": "f5NQYVivpDhg",
        "outputId": "651bd909-8340-428e-a80a-a08334a4b302"
      },
      "source": [
        "az1=ac2.flatten(order='f')\n",
        "az1=az1.reshape(5,3,order='f')\n",
        "\n",
        "print(az1)"
      ],
      "execution_count": 7,
      "outputs": [
        {
          "output_type": "stream",
          "text": [
            "[[ 1  6 11]\n",
            " [ 2  7 12]\n",
            " [ 3  8 13]\n",
            " [ 4  9 14]\n",
            " [ 5 10 15]]\n"
          ],
          "name": "stdout"
        }
      ]
    },
    {
      "cell_type": "markdown",
      "metadata": {
        "id": "I62SMLOPU2OU"
      },
      "source": [
        "# #6\n",
        " ​You are given the following two arrays:a = np.array([12, 5, 7, 15, 3, 1, 8])b = np.array([14, 6, 3, 11, 19, 12, 5])\n",
        "\n",
        "Write a Python/Numpy code block that removes from array ​a ​any items that are also present in array b"
      ]
    },
    {
      "cell_type": "code",
      "metadata": {
        "colab": {
          "base_uri": "https://localhost:8080/"
        },
        "id": "Qzv-PEQsnfP3",
        "outputId": "3f6ff2d0-437c-47a8-b9c1-c496101bf46f"
      },
      "source": [
        "a1 = np.array([12, 5, 7, 15, 3, 1, 8])\n",
        "b1 = np.array([14, 6, 3, 11, 19, 12, 5])\n",
        "l=[]\n",
        "for i in a1:\n",
        "  if i not in b1:\n",
        "   l.append(i)\n",
        "a1=np.array(l)\n",
        "print(a1)"
      ],
      "execution_count": null,
      "outputs": [
        {
          "output_type": "stream",
          "text": [
            "[ 7 15  1  8]\n"
          ],
          "name": "stdout"
        }
      ]
    },
    {
      "cell_type": "markdown",
      "metadata": {
        "id": "u70-2V4wchwA"
      },
      "source": [
        "# #7"
      ]
    },
    {
      "cell_type": "code",
      "metadata": {
        "colab": {
          "base_uri": "https://localhost:8080/"
        },
        "id": "0ozgU9a-ciO6",
        "outputId": "272677eb-8221-47ed-bc36-691ea6c5592d"
      },
      "source": [
        "import pandas as pd\n",
        "import numpy as np\n",
        "#nyc_water\n",
        "# supress scientific notation\n",
        "np.set_printoptions(suppress = True)\n",
        "# read the data file from GitHub and convert to a NumPy ndarray object\n",
        "# be sure to replace the ‘link_to_raw_copy of data file in your Github Repository’ placeholder shownbelow \n",
        "# with a link to the “raw” version of the file you pushed to your online GitHub repository\n",
        "ny = pd.read_csv('https://raw.githubusercontent.com/hwasser95/myhw/main/cityData.csv').to_numpy()\n",
        "# verify you have an ndarray object\n",
        "type(ny)\n",
        "print(ny.shape)"
      ],
      "execution_count": null,
      "outputs": [
        {
          "output_type": "stream",
          "text": [
            "(39, 4)\n"
          ],
          "name": "stdout"
        }
      ]
    },
    {
      "cell_type": "code",
      "metadata": {
        "colab": {
          "base_uri": "https://localhost:8080/"
        },
        "id": "Bd7ZQsHtdsv8",
        "outputId": "d25eb34c-413e-4179-ff54-3803ff77be6b"
      },
      "source": [
        "#I’m splitting all the columns into individual list in order to easily manage the lists \n",
        "#Year\n",
        "ny1=ny[:,0:1]\n",
        "#New York City Population\t\n",
        "ny2=ny[:,1:2]\n",
        "#NYC Consumption(Million gallons per day)\n",
        "ny3=ny[:,2:3]\n",
        "#Per Capita(Gallons per person per day)\n",
        "ny4=ny[:,3:4]\n",
        "ny1.max()\n",
        " "
      ],
      "execution_count": null,
      "outputs": [
        {
          "output_type": "execute_result",
          "data": {
            "text/plain": [
              "2017.0"
            ]
          },
          "metadata": {
            "tags": []
          },
          "execution_count": 105
        }
      ]
    },
    {
      "cell_type": "markdown",
      "metadata": {
        "id": "GvqNF3Hgjilt"
      },
      "source": [
        "## #A\n",
        "What is the maximum yearly NYC consumption of water in millions of gallons per day?"
      ]
    },
    {
      "cell_type": "code",
      "metadata": {
        "colab": {
          "base_uri": "https://localhost:8080/"
        },
        "id": "CTqoWaYVjnFC",
        "outputId": "137ceb77-25e4-4903-e9a1-283f60e32474"
      },
      "source": [
        "#I’m going to find the max from column 3\n",
        "ny3.max()"
      ],
      "execution_count": null,
      "outputs": [
        {
          "output_type": "execute_result",
          "data": {
            "text/plain": [
              "1512.0"
            ]
          },
          "metadata": {
            "tags": []
          },
          "execution_count": 106
        }
      ]
    },
    {
      "cell_type": "markdown",
      "metadata": {
        "id": "uA3LmB-DkAQm"
      },
      "source": [
        "## #B\n",
        "How many calendar years are represented within this data set? NumPy's ​shape ​command is one way to findout."
      ]
    },
    {
      "cell_type": "code",
      "metadata": {
        "colab": {
          "base_uri": "https://localhost:8080/"
        },
        "id": "qkjTaq9kkGn_",
        "outputId": "37692feb-ad6c-46ff-eca0-7ae09ed5578c"
      },
      "source": [
        "# The len of ny1 will count how many years \n",
        "print(len(ny1))"
      ],
      "execution_count": null,
      "outputs": [
        {
          "output_type": "stream",
          "text": [
            "39\n"
          ],
          "name": "stdout"
        }
      ]
    },
    {
      "cell_type": "markdown",
      "metadata": {
        "id": "qH1MzDAtkN5K"
      },
      "source": [
        "## #C\n",
        "​What is the mean and the standard deviation of the per capita daily water consumption?\n",
        "\n"
      ]
    },
    {
      "cell_type": "code",
      "metadata": {
        "colab": {
          "base_uri": "https://localhost:8080/"
        },
        "id": "UUkT-dNMkhKN",
        "outputId": "9c0da730-f8a5-4029-8555-fc7855dea894"
      },
      "source": [
        "#Using ny4 array that has the per capita daily water consumption\n",
        "ny4.mean()"
      ],
      "execution_count": null,
      "outputs": [
        {
          "output_type": "execute_result",
          "data": {
            "text/plain": [
              "160.30769230769232"
            ]
          },
          "metadata": {
            "tags": []
          },
          "execution_count": 108
        }
      ]
    },
    {
      "cell_type": "code",
      "metadata": {
        "colab": {
          "base_uri": "https://localhost:8080/"
        },
        "id": "w7y8UCHukt_f",
        "outputId": "a9e6a090-6a1e-4760-d6e5-3f6d9770bca8"
      },
      "source": [
        "ny4.std()"
      ],
      "execution_count": null,
      "outputs": [
        {
          "output_type": "execute_result",
          "data": {
            "text/plain": [
              "31.51894330370624"
            ]
          },
          "metadata": {
            "tags": []
          },
          "execution_count": 109
        }
      ]
    },
    {
      "cell_type": "markdown",
      "metadata": {
        "id": "VgqQc9TglBBc"
      },
      "source": [
        "## #D\n",
        "What is the increase or decrease in population from year to year? Use NumPy's `​diff` ​function to create an array  ofdifferences and save that to a variable called \"​pop_diff​\", then print that variable to the screen."
      ]
    },
    {
      "cell_type": "code",
      "metadata": {
        "colab": {
          "base_uri": "https://localhost:8080/"
        },
        "id": "c_eubKWjlBhI",
        "outputId": "8a003a3b-546b-427c-d76b-e65504372b0c"
      },
      "source": [
        "#Using ny2 array that has the different populations \n",
        "pop_diff=np.diff(ny2,axis=0)\n",
        "print(pop_diff)"
      ],
      "execution_count": null,
      "outputs": [
        {
          "output_type": "stream",
          "text": [
            "[[-30461. ]\n",
            " [ 17602. ]\n",
            " [ 19864. ]\n",
            " [ 72119. ]\n",
            " [ 53290. ]\n",
            " [ 39540. ]\n",
            " [ 45192. ]\n",
            " [ 23230. ]\n",
            " [ 11243. ]\n",
            " [ -9544. ]\n",
            " [ -8525. ]\n",
            " [ 38851. ]\n",
            " [ 54443. ]\n",
            " [ 77222. ]\n",
            " [ 64292. ]\n",
            " [ 62582. ]\n",
            " [ 64772. ]\n",
            " [ 75631. ]\n",
            " [ 84816. ]\n",
            " [ 89401. ]\n",
            " [ 60618. ]\n",
            " [ 16685.5]\n",
            " [ 16685.5]\n",
            " [ 16685.5]\n",
            " [ 16685.5]\n",
            " [ 16685.5]\n",
            " [ 16685.5]\n",
            " [ 16685.5]\n",
            " [ 16685.5]\n",
            " [ 16685.5]\n",
            " [ 16685.5]\n",
            " [108965. ]\n",
            " [ 77081. ]\n",
            " [ 61281. ]\n",
            " [ 49530. ]\n",
            " [ 44512. ]\n",
            " [ 21171. ]\n",
            " [ 85025. ]]\n"
          ],
          "name": "stdout"
        }
      ]
    }
  ]
}