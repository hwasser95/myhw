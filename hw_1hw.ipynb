{
  "nbformat": 4,
  "nbformat_minor": 0,
  "metadata": {
    "colab": {
      "name": "hw#1hw.ipynb",
      "provenance": [],
      "authorship_tag": "ABX9TyMIZ2YXsV8x6je0felI59Xr",
      "include_colab_link": true
    },
    "kernelspec": {
      "name": "python3",
      "display_name": "Python 3"
    }
  },
  "cells": [
    {
      "cell_type": "markdown",
      "metadata": {
        "id": "view-in-github",
        "colab_type": "text"
      },
      "source": [
        "<a href=\"https://colab.research.google.com/github/hwasser95/myhw/blob/main/hw_1hw.ipynb\" target=\"_parent\"><img src=\"https://colab.research.google.com/assets/colab-badge.svg\" alt=\"Open In Colab\"/></a>"
      ]
    },
    {
      "cell_type": "markdown",
      "metadata": {
        "id": "f3978cu3l_yP"
      },
      "source": [
        "# #1\r\n",
        "\r\n",
        "\r\n",
        "Write a program that will ask the user to enter the amount of a purchase. The program should then compute the state and county sales tax. Assume the state sales tax is 5 percent and the county sales tax is 2.5 percent. The program should display the amount of the purchase, the statesales tax, the county sales tax, the total sales tax, and the total of the sale(which is the sum of the amountof purchase plus the total sales tax)."
      ]
    },
    {
      "cell_type": "code",
      "metadata": {
        "colab": {
          "base_uri": "https://localhost:8080/"
        },
        "id": "XZjlfQ3XmGb4",
        "outputId": "4dbe3c60-026f-405a-edfa-26ecd082f9d2"
      },
      "source": [
        "STATE_SALES_TAX = .05\r\n",
        "COUNTY_SALES_TAX = .025\r\n",
        "\r\n",
        "purchase = int(input('enter purchase amount '))\r\n",
        "sst= STATE_SALES_TAX * purchase\r\n",
        "cst = COUNTY_SALES_TAX *purchase\r\n",
        "tt = sst+cst\r\n",
        "print('purchase = ',purchase, '| the state sales tax = ', sst, '| the county sales tax = ',cst, '| the total sales tax = ', tt, '| the total of the sale = ', purchase+tt)"
      ],
      "execution_count": null,
      "outputs": [
        {
          "output_type": "stream",
          "text": [
            "enter purchase amount 1000\n",
            "purchase =  1000 | the state sales tax =  50.0 | the county sales tax =  25.0 | the total sales tax =  75.0 | the total of the sale =  1075.0\n"
          ],
          "name": "stdout"
        }
      ]
    },
    {
      "cell_type": "markdown",
      "metadata": {
        "id": "GpPIDc-KmHR4"
      },
      "source": [
        "# #2\r\n",
        "\r\n",
        "Running on a particular treadmill you burn 4.2 calories per minute. Write aprogram that uses a loop to display the number of calories burned after 10, 15,20, 25, and 30 minutes."
      ]
    },
    {
      "cell_type": "code",
      "metadata": {
        "colab": {
          "base_uri": "https://localhost:8080/"
        },
        "id": "e5nMcLDImQTg",
        "outputId": "04b10eab-644c-42a4-d497-ce059472babe"
      },
      "source": [
        "CALORIES_PER_MINUTE = 4.2\r\n",
        "\r\n",
        "for i in range(10,31,5):\r\n",
        "    \r\n",
        "    print('calories burned in', i, 'minutes  = ', (i*CALORIES_PER_MINUTE))"
      ],
      "execution_count": null,
      "outputs": [
        {
          "output_type": "stream",
          "text": [
            "calories burned in 10 minutes  =  42.0\n",
            "calories burned in 15 minutes  =  63.0\n",
            "calories burned in 20 minutes  =  84.0\n",
            "calories burned in 25 minutes  =  105.0\n",
            "calories burned in 30 minutes  =  126.0\n"
          ],
          "name": "stdout"
        }
      ]
    },
    {
      "cell_type": "markdown",
      "metadata": {
        "id": "sfgnq93hmYMQ"
      },
      "source": [
        "# #3\r\n",
        "\r\n",
        "At one college, the tuition for a full-time studentis $8,000 per semester. It has been announced that the tuition will increase by 3percent each year for the next 5 years. Write a program with a loop that displays the projected semester tuition amount for the next 5 years."
      ]
    },
    {
      "cell_type": "code",
      "metadata": {
        "colab": {
          "base_uri": "https://localhost:8080/"
        },
        "id": "mGCpHetEmgDR",
        "outputId": "2d289242-2df8-49b7-d3da-08d05a7ad571"
      },
      "source": [
        "tuition = 8000\r\n",
        "\r\n",
        "for i in range(5):\r\n",
        "  tuition += tuition*.03\r\n",
        "  print(f'tuition in year {i+1} = ${tuition:,.2f}')"
      ],
      "execution_count": null,
      "outputs": [
        {
          "output_type": "stream",
          "text": [
            "tuition in year 1 = $8,240.00\n",
            "tuition in year 2 = $8,487.20\n",
            "tuition in year 3 = $8,741.82\n",
            "tuition in year 4 = $9,004.07\n",
            "tuition in year 5 = $9,274.19\n"
          ],
          "name": "stdout"
        }
      ]
    },
    {
      "cell_type": "markdown",
      "metadata": {
        "id": "s0NBI4xfmhqp"
      },
      "source": [
        "# #4\r\n",
        "\r\n",
        "Many financial experts advise that property owners should insure their homes or buildings for at least 80 percent of the amount it would cost to replace the structure. Write a program that asks the user to enter the replacement cost of a building, then displays the minimum amount of insurance he or she should buy for the property."
      ]
    },
    {
      "cell_type": "code",
      "metadata": {
        "colab": {
          "base_uri": "https://localhost:8080/"
        },
        "id": "eskAEddKmo0_",
        "outputId": "3c2038ef-669b-46f0-dc3d-2710df06751e"
      },
      "source": [
        "rplace_cost = int(input('enter replacement cost: '))\r\n",
        "rplace_cost *= .8\r\n",
        "print('min amount to insure = $',rplace_cost)"
      ],
      "execution_count": null,
      "outputs": [
        {
          "output_type": "stream",
          "text": [
            "enter replacement cost: 1000\n",
            "min amount to insure = $ 800.0\n"
          ],
          "name": "stdout"
        }
      ]
    },
    {
      "cell_type": "markdown",
      "metadata": {
        "id": "C-ZEzZtC0_aj"
      },
      "source": [
        "# #5\r\n",
        "\r\n",
        "A county collects property taxes on the assessment value of property, which is 60 percent of the property’s actual value. For example, if an acre of land is valued at $10,000 its assessment value is dollars 6,000. The property tax is then dollar 0.72 for each 100 dollars of the assessment value. The tax for the acre assessed at dollars 6,000 will be dollars 43.20. Write a program that asks for the actual value of a piece of property and displays the assessment value and property tax"
      ]
    },
    {
      "cell_type": "code",
      "metadata": {
        "colab": {
          "base_uri": "https://localhost:8080/"
        },
        "id": "Il56zqs3PjfW",
        "outputId": "f3066aa6-22bd-4810-9a44-f8a698269cfb"
      },
      "source": [
        "property_val = int(input('enter property value: '))\r\n",
        "PROPERTY_TAX = .72\r\n",
        "ASSESSMENT_VAL = .6\r\n",
        "\r\n",
        "assessment = property_val * ASSESSMENT_VAL\r\n",
        "tax = assessment * PROPERTY_TAX\r\n",
        "print(f'Your assement is ${assessment}, and your property tax is ${tax}')"
      ],
      "execution_count": null,
      "outputs": [
        {
          "output_type": "stream",
          "text": [
            "enter property value: 1000\n",
            "Your assement is $600.0, and your property tax is $432.0\n"
          ],
          "name": "stdout"
        }
      ]
    },
    {
      "cell_type": "markdown",
      "metadata": {
        "id": "geja7X2iR6qv"
      },
      "source": [
        "# #6\r\n",
        "\r\n",
        "Write a program that generates 100 random numbersand keeps a count of howmany of those random numbers are even, and how manyof them are odd."
      ]
    },
    {
      "cell_type": "code",
      "metadata": {
        "colab": {
          "base_uri": "https://localhost:8080/"
        },
        "id": "lzJxGx08SVA2",
        "outputId": "c0676727-6fd0-4015-e274-99d00440a5eb"
      },
      "source": [
        "import random\r\n",
        "even = 0\r\n",
        "odd = 0\r\n",
        "for i in range(100):\r\n",
        " i = random.randint(0,100)\r\n",
        " if i % 2 == 0:\r\n",
        "   even +=1\r\n",
        " else:\r\n",
        "    odd += 1\r\n",
        "print(f'even# = {even}, odd# = {odd}')\r\n"
      ],
      "execution_count": null,
      "outputs": [
        {
          "output_type": "stream",
          "text": [
            "even# = 56, odd# = 44\n"
          ],
          "name": "stdout"
        }
      ]
    },
    {
      "cell_type": "markdown",
      "metadata": {
        "id": "jRVHy0eUUXPD"
      },
      "source": [
        "# #7\r\n",
        "\r\n",
        "Write a program that lets the user play the game of Rock, Paper, Scissors against the computer. The program should work as follows: \r\n",
        "a.When the program begins, a random number in the rangeof 1 through 3 is generated. \r\n",
        "If the number is 1, then the computer haschosen rock. \r\n",
        "If thenumber is 2, then the computer has chosen paper. \r\n",
        "Ifthe number is 3, thenthe computer has chosen scissors. \r\n",
        "(Don’t display thecomputer’s choiceyet.)\r\n",
        "b.The user enters his or her choice of “rock,” “paper,”or “scissors” at the keyboard.\r\n",
        "c.The computer’s choice is displayed.\r\n",
        "d.A winner is selected according to the following rules:\r\n",
        "i.If one player chooses rock and the other player choosesscissors,then rock wins. (Rock smashes scissors.)\r\n",
        "ii.If one player chooses scissors and the other player chooses paper,then scissors wins. (Scissors cuts paper.)\r\n",
        "iii.If one player chooses paper and the other player choosesrock,then paper wins. (Paper wraps rock.)\r\n",
        "iv.If both players make the same choice, the game mustbe playedagain to determine the winner."
      ]
    },
    {
      "cell_type": "code",
      "metadata": {
        "id": "7hbtxkYMUWd_",
        "colab": {
          "base_uri": "https://localhost:8080/"
        },
        "outputId": "e5fa6f1a-fc6f-4940-ce44-b6b076af8f68"
      },
      "source": [
        "import random\r\n",
        "#random.seed(1)\r\n",
        "\r\n",
        "\r\n",
        "def main():\r\n",
        "    num = random.randint(1, 3)\r\n",
        "    peep = input(\"enter rock paper or scissors: \")\r\n",
        "    computer_choice = comp(num)\r\n",
        "    print(\"Computer's choice: \", computer_choice)\r\n",
        "    print('Your Choice: ', peep)\r\n",
        "    check(peep, computer_choice)\r\n",
        "\r\n",
        "\r\n",
        "def comp(num):\r\n",
        "    if num == 1:\r\n",
        "        choice = 'rock'\r\n",
        "    elif num == 3:\r\n",
        "        choice = 'scissors'\r\n",
        "    elif num == 2:\r\n",
        "        choice = 'paper'\r\n",
        "    return choice\r\n",
        "\r\n",
        "\r\n",
        "def game(computer_choice, peep):\r\n",
        "    if computer_choice == 'rock' and peep == 'scissors':\r\n",
        "        print('You Lost')\r\n",
        "        print('rock smashes scissors')\r\n",
        "    elif computer_choice == 'scissors' and peep == 'rock':\r\n",
        "        print('You Won')\r\n",
        "        print('rock smashes scissors')\r\n",
        "    elif computer_choice == 'paper' and peep == 'scissors':\r\n",
        "        print('You Lost')\r\n",
        "        print('Scissors cuts paper')\r\n",
        "    elif computer_choice == 'scissors' and peep == 'paper':\r\n",
        "        print('You Won')\r\n",
        "        print('Scissors cuts paper')\r\n",
        "    elif computer_choice == 'paper' and peep == 'rock':\r\n",
        "        print('You Lost')\r\n",
        "        print('Paper wraps rock')\r\n",
        "    else:\r\n",
        "        print('You Won')\r\n",
        "        print('Paper wraps rock')\r\n",
        "\r\n",
        "\r\n",
        "def check(peep, computer_choice):\r\n",
        "    while computer_choice == peep:\r\n",
        "        peep = input(\"enter rock paper or scissors: \")\r\n",
        "        num = random.randint(1, 3)\r\n",
        "        computer_choice = comp(num)\r\n",
        "        print(\"Computer's choice: \", computer_choice)\r\n",
        "        print('Your Choice: ', peep)\r\n",
        "\r\n",
        "    else:\r\n",
        "        game(computer_choice, peep)\r\n",
        "\r\n",
        "\r\n",
        "main()"
      ],
      "execution_count": null,
      "outputs": [
        {
          "output_type": "stream",
          "text": [
            "enter rock paper or scissors: RoCk\n",
            "Computer's choice:  scissors\n",
            "Your Choice:  RoCk\n",
            "You Won\n",
            "Paper wraps rock\n"
          ],
          "name": "stdout"
        }
      ]
    },
    {
      "cell_type": "markdown",
      "metadata": {
        "id": "DGYoMXN3Ti7K"
      },
      "source": [
        "# #8\r\n",
        "\r\n",
        "In a program, write a function that accepts two arguments:a list, and a numbern.Assume that the list contains numbers. The functionshould display all of thenumbers in the list that are greater than the numbern."
      ]
    },
    {
      "cell_type": "code",
      "metadata": {
        "id": "VxJj0AZoVsXz",
        "colab": {
          "base_uri": "https://localhost:8080/"
        },
        "outputId": "acf927ff-9ebf-4ae5-dd4c-a25aeeee21e3"
      },
      "source": [
        "def main():\r\n",
        "    list1 = [10, 2, 4, 5, 3, 8, 9, 8, 7, 6, 3]\r\n",
        "    list1.sort()\r\n",
        "    x = int(input('choose a number to sort greater than: '))\r\n",
        "    sorter(list1,x)\r\n",
        "\r\n",
        "def sorter(list,n):\r\n",
        "    for index in range(len(list)):\r\n",
        "        a = list[index]\r\n",
        "        if a > n:\r\n",
        "            print(a)\r\n",
        "\r\n",
        "main()"
      ],
      "execution_count": null,
      "outputs": [
        {
          "output_type": "stream",
          "text": [
            "choose a number to sort greater than: 5\n",
            "6\n",
            "7\n",
            "8\n",
            "8\n",
            "9\n",
            "10\n"
          ],
          "name": "stdout"
        }
      ]
    },
    {
      "cell_type": "markdown",
      "metadata": {
        "id": "kV6zfnfeWfw5"
      },
      "source": [
        "# #9\r\n",
        "\r\n",
        "A positive integer greater than 1 is said to be prime\r\n",
        "if it has no divisors other than 1 and itself. A positive integer greater than 1 is composite if it is not prime.\r\n",
        " Write a program that asks the user to enter an integer greater than 1, then displays all of the prime numbers that are less than or equal to the number entered. The program should work as follows:\r\n",
        " a.Once the user has entered a number, the program should populate a list with all of the integers from 2 up through the value entered.\r\n",
        " b.The program should then use a loop to step through the list. The loop should pass each element to a function that displays whether the element is a prime number, or a composite number."
      ]
    },
    {
      "cell_type": "code",
      "metadata": {
        "colab": {
          "base_uri": "https://localhost:8080/"
        },
        "id": "8L4cqU-FXRQX",
        "outputId": "9a59dfb1-b96b-4d18-d0fe-791011dc9401"
      },
      "source": [
        "def main():\r\n",
        "  nums = int(input('enter a # greater than 1: '))\r\n",
        "  num_list= []\r\n",
        "  for i in range(2,nums+1):\r\n",
        "    num_list.append(i)\r\n",
        "  print(num_list)\r\n",
        "  for i in range(len(num_list)):\r\n",
        "    check_prime(num_list[i])\r\n",
        "  \r\n",
        "\r\n",
        "def check_prime( num):  \r\n",
        "  # If given number is greater than 1\r\n",
        "  if num > 1:\r\n",
        "  \r\n",
        "      # Iterate from 2 to n / 2\r\n",
        "      for i in range(2, num):\r\n",
        "  \r\n",
        "          # If num is divisible by any number between\r\n",
        "          # 2 and n / 2, it is not prime\r\n",
        "          if (num % i) == 0:\r\n",
        "              print(num, \"is a composite number\")\r\n",
        "              break\r\n",
        "      else:\r\n",
        "          print(num, \"is a prime number\")\r\n",
        "\r\n",
        "main()\r\n"
      ],
      "execution_count": null,
      "outputs": [
        {
          "output_type": "stream",
          "text": [
            "enter a # greater than 1: 10\n",
            "[2, 3, 4, 5, 6, 7, 8, 9, 10]\n",
            "2 is a prime number\n",
            "3 is a prime number\n",
            "4 is a composite number\n",
            "5 is a prime number\n",
            "6 is a composite number\n",
            "7 is a prime number\n",
            "8 is a composite number\n",
            "9 is a composite number\n",
            "10 is a composite number\n"
          ],
          "name": "stdout"
        }
      ]
    },
    {
      "cell_type": "markdown",
      "metadata": {
        "id": "HWGKAhBqXSMy"
      },
      "source": [
        "# #10\r\n",
        "\r\n",
        "Write a program that asks the user to enter a series of single-digit numbers with nothing separating them. The program should displaythe sum of all the singledigit numbers in the string. For example, if the userenters 2514, the methodshould return 12, which is the sum of 2, 5, 1, and4."
      ]
    },
    {
      "cell_type": "code",
      "metadata": {
        "colab": {
          "base_uri": "https://localhost:8080/"
        },
        "id": "B7VeSZlHcvqo",
        "outputId": "79c3f6c3-1bf4-41d8-9cf9-888ea1566f84"
      },
      "source": [
        "num = input('enter a series of single-digit numbers with nothing separating them: ')\r\n",
        "total = 0\r\n",
        "for i in num:\r\n",
        "  total += int(i)\r\n",
        "print('sum is:',total)"
      ],
      "execution_count": null,
      "outputs": [
        {
          "output_type": "stream",
          "text": [
            "enter a series of single-digit numbers with nothing separating them: 12345678910\n",
            "sum is: 46\n"
          ],
          "name": "stdout"
        }
      ]
    },
    {
      "cell_type": "markdown",
      "metadata": {
        "id": "ABgOFhIUXbGx"
      },
      "source": [
        "# #11\r\n",
        "\r\n",
        "Write a program that lets the user enter a string and displays the character that appears most frequently in the string."
      ]
    },
    {
      "cell_type": "code",
      "metadata": {
        "colab": {
          "base_uri": "https://localhost:8080/"
        },
        "id": "msJQ8M52Xb08",
        "outputId": "a33035b4-9b54-4501-d50c-5cee7bf8c089"
      },
      "source": [
        "text = input('enter text: ')\r\n",
        "print(text)\r\n",
        "high = 0\r\n",
        "for i in text.lower():\r\n",
        "  count = 0\r\n",
        "  for ch in text.lower():\r\n",
        "    if ch == i:\r\n",
        "      count += 1\r\n",
        "  if count > high:\r\n",
        "    high = count\r\n",
        "    texts = i\r\n",
        "  elif count == high:\r\n",
        "    if i not in texts:\r\n",
        "      texts += i\r\n",
        "    \r\n",
        "print(texts)\r\n",
        "\r\n",
        "  "
      ],
      "execution_count": 1,
      "outputs": [
        {
          "output_type": "stream",
          "text": [
            "enter text: hello world\n",
            "hello world\n",
            "l\n"
          ],
          "name": "stdout"
        }
      ]
    },
    {
      "cell_type": "markdown",
      "metadata": {
        "id": "zFbBYrfNXo8Y"
      },
      "source": [
        "# #12\r\n",
        "\r\n",
        "Write a program that opens a specified text file then displays a list of all the unique words found in the file. Hint: Store each word as an element of a set."
      ]
    },
    {
      "cell_type": "code",
      "metadata": {
        "colab": {
          "base_uri": "https://localhost:8080/"
        },
        "id": "roHBtxiA29c4",
        "outputId": "3ee12690-425c-48cb-bb61-0d7174b98d38"
      },
      "source": [
        "#textFile = open(fileName, r)\r\n",
        "#word = textFile.read()\r\n",
        "\r\n",
        "word = ' ww ww ww ww and Call me Ishmael. Some years ago - never mind how long precisely - \\\r\n",
        "having little or no money in my purse, and nothing particular to interest\\\r\n",
        "me on shore, I thought I would sail about a little and see the watery part\\\r\n",
        "of  the world. It is a way I have of driving off the spleen, and regulating\\\r\n",
        "the  circulation. - Moby Dick'\r\n",
        "myset = set(word.split())\r\n",
        "print(myset)"
      ],
      "execution_count": null,
      "outputs": [
        {
          "output_type": "stream",
          "text": [
            "{'no', 'of', 'Some', 'shore,', 'is', 'world.', 'never', 'precisely', 'thought', 'spleen,', '-', 'see', 'driving', 'Ishmael.', 'interestme', 'Dick', 'me', 'way', 'have', 'ww', 'would', 'or', 'mind', 'Moby', 'to', 'I', 'in', 'years', 'ago', 'about', 'my', 'purse,', 'sail', 'long', 'It', 'having', 'and', 'on', 'nothing', 'off', 'watery', 'circulation.', 'the', 'how', 'Call', 'particular', 'partof', 'little', 'regulatingthe', 'a', 'money'}\n"
          ],
          "name": "stdout"
        }
      ]
    },
    {
      "cell_type": "markdown",
      "metadata": {
        "id": "2Zj2cO_NXwYK"
      },
      "source": [
        "# #13\r\n",
        "\r\n",
        "Write a program that reads the contents of a text file. The program should create a dictio-nary in which the keys are the individual words found in the file and the values are the number of times each word appears.For example, if the word “the” appears 128 times, the dictionary would containan element with 'the' asthe key and 128 as the value. The program should either display the frequency of each word or create a second file containing a listof each word and its frequency"
      ]
    },
    {
      "cell_type": "code",
      "metadata": {
        "colab": {
          "base_uri": "https://localhost:8080/"
        },
        "id": "StMybEDXm6u5",
        "outputId": "a3e5b627-842c-4e4a-9906-c26056e9d6c3"
      },
      "source": [
        "#fName = input(\"What's the name of the file? Put the path in if it is in different directory\\t\")\r\n",
        "#txtFile = open(fName,r)\r\n",
        "#word = txtFile.read()\r\n",
        "# #ex\r\n",
        "word = ' ww ww ww ww and Call me Ishmael. Some years ago - never mind how long precisely - \\\r\n",
        "having little or no money in my purse, and nothing particular to interest\\\r\n",
        "me on shore, I thought I would sail about a little and see the watery part\\\r\n",
        "of  the world. It is a way I have of driving off the spleen, and regulating\\\r\n",
        "the  circulation. - Moby Dick'\r\n",
        "dictt = {}\r\n",
        "for i in word.lower().split():\r\n",
        "   if i in dictt:\r\n",
        "     dictt[i]+=1\r\n",
        "   else:\r\n",
        "     dictt[i]=1\r\n",
        "print(dictt)"
      ],
      "execution_count": null,
      "outputs": [
        {
          "output_type": "stream",
          "text": [
            "{'ww': 4, 'and': 4, 'call': 1, 'me': 1, 'ishmael.': 1, 'some': 1, 'years': 1, 'ago': 1, '-': 3, 'never': 1, 'mind': 1, 'how': 1, 'long': 1, 'precisely': 1, 'having': 1, 'little': 2, 'or': 1, 'no': 1, 'money': 1, 'in': 1, 'my': 1, 'purse,': 1, 'nothing': 1, 'particular': 1, 'to': 1, 'interestme': 1, 'on': 1, 'shore,': 1, 'i': 3, 'thought': 1, 'would': 1, 'sail': 1, 'about': 1, 'a': 2, 'see': 1, 'the': 3, 'watery': 1, 'partof': 1, 'world.': 1, 'it': 1, 'is': 1, 'way': 1, 'have': 1, 'of': 1, 'driving': 1, 'off': 1, 'spleen,': 1, 'regulatingthe': 1, 'circulation.': 1, 'moby': 1, 'dick': 1}\n"
          ],
          "name": "stdout"
        }
      ]
    }
  ]
}